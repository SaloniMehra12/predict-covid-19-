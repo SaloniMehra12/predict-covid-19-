{
  "nbformat": 4,
  "nbformat_minor": 0,
  "metadata": {
    "colab": {
      "name": "Covid 19 x-ray image.ipynb",
      "provenance": [],
      "collapsed_sections": []
    },
    "kernelspec": {
      "name": "python3",
      "display_name": "Python 3"
    }
  },
  "cells": [
    {
      "cell_type": "markdown",
      "metadata": {
        "id": "kaOnACHjXUGl",
        "colab_type": "text"
      },
      "source": [
        "#covid-19 chest x ray analysis"
      ]
    },
    {
      "cell_type": "code",
      "metadata": {
        "id": "XiIEHRJ4ZcmN",
        "colab_type": "code",
        "colab": {}
      },
      "source": [
        "from google.colab import drive\n",
        "drive.mount('/content/drive',force_remount=True)"
      ],
      "execution_count": null,
      "outputs": []
    },
    {
      "cell_type": "code",
      "metadata": {
        "id": "rbCUv45UIdrB",
        "colab_type": "code",
        "colab": {
          "base_uri": "https://localhost:8080/",
          "height": 34
        },
        "outputId": "cd82347c-551d-47d5-d5d8-d2532929443f"
      },
      "source": [
        "cd \"/content/drive/My Drive/covid-19_dataset\""
      ],
      "execution_count": null,
      "outputs": [
        {
          "output_type": "stream",
          "text": [
            "/content/drive/My Drive/covid-19_dataset\n"
          ],
          "name": "stdout"
        }
      ]
    },
    {
      "cell_type": "markdown",
      "metadata": {
        "id": "KNZ2NrA04HRY",
        "colab_type": "text"
      },
      "source": [
        "#dataset"
      ]
    },
    {
      "cell_type": "markdown",
      "metadata": {
        "id": "dps7K4dV4QO-",
        "colab_type": "text"
      },
      "source": [
        "link \n",
        "*  https://github.com/ieee8023/covid-chestxray-dataset"
      ]
    },
    {
      "cell_type": "markdown",
      "metadata": {
        "id": "2rqWGSRAKkH-",
        "colab_type": "text"
      },
      "source": [
        "#modules import"
      ]
    },
    {
      "cell_type": "markdown",
      "metadata": {
        "id": "IVMfokbSZVG-",
        "colab_type": "text"
      },
      "source": [
        "\n",
        "\n",
        "*   Pandas = reading csv file\n",
        "*   os =acessing and joing directories and paths\n",
        "*   shutil =copying image from one folder to  another\n",
        "*   cv2 = reading images from directory\n",
        "*   random= shuflling the input data set\n",
        "*   pickle = saving values obtained of x and y \n",
        "*   numpy =resizing array and converting image matrix to numpy array\n",
        "*   tensorflow = using backend \n",
        "*   sequential = combining layers of convolutional \n",
        "*   Dense = densing conv2d layer \n",
        "*   Dropout = removing few layers \n",
        "*    Activation= activation function call\n",
        "*    Flatten = flatenning dnese layer\n",
        "*   Conv2D= extracting features in 2d format\n",
        "*   MaxPooling2D= pool adding\n",
        "*   BatchNormalization= normalizing batch\n",
        "*   model_from_json =  save model json format\n",
        "*   load_model= load the model\n",
        "*   train_test_split= split test and train data \n",
        "*   SGD= used in mlp \n",
        "\n",
        "\n",
        "\n",
        "\n",
        "\n",
        "\n"
      ]
    },
    {
      "cell_type": "code",
      "metadata": {
        "id": "XVcsXWZ9IhjC",
        "colab_type": "code",
        "colab": {
          "base_uri": "https://localhost:8080/",
          "height": 34
        },
        "outputId": "68fcded2-8298-4dbb-a87e-7b7612cf5375"
      },
      "source": [
        "import pandas as pd\n",
        "import os\n",
        "import shutil\n",
        "import cv2\n",
        "import random\n",
        "import pickle\n",
        "import numpy as np\n",
        "import tensorflow as tf \n",
        "from tensorflow.keras.models import Sequential\n",
        "from tensorflow.keras.layers import Dense, Dropout, Activation, Flatten, Conv2D, MaxPooling2D,BatchNormalization\n",
        "import pickle\n",
        "from keras.models import model_from_json\n",
        "from keras.models import load_model\n",
        "import matplotlib.pyplot as plt\n",
        "from sklearn.model_selection import train_test_split\n",
        "from keras.optimizers import SGD"
      ],
      "execution_count": null,
      "outputs": [
        {
          "output_type": "stream",
          "text": [
            "Using TensorFlow backend.\n"
          ],
          "name": "stderr"
        }
      ]
    },
    {
      "cell_type": "markdown",
      "metadata": {
        "id": "Zhri9dcxK0U1",
        "colab_type": "text"
      },
      "source": [
        "# csv reading"
      ]
    },
    {
      "cell_type": "markdown",
      "metadata": {
        "id": "DGGRp9YudJpL",
        "colab_type": "text"
      },
      "source": [
        "*   reading csv file\n",
        "*   finding distinct diseases in csv file under \"finding column\"\n",
        "*   type of images analysis(ct ,x-ray)\n",
        "*   type of views in those images (lateral,posterior etc.)"
      ]
    },
    {
      "cell_type": "code",
      "metadata": {
        "id": "xib19zVRKytQ",
        "colab_type": "code",
        "colab": {}
      },
      "source": [
        "df=pd.read_csv(\"metadata.csv\")"
      ],
      "execution_count": null,
      "outputs": []
    },
    {
      "cell_type": "code",
      "metadata": {
        "id": "6H8kUFarLcVV",
        "colab_type": "code",
        "colab": {
          "base_uri": "https://localhost:8080/",
          "height": 51
        },
        "outputId": "5a17b58f-5ecc-4fa2-874f-381ec3660761"
      },
      "source": [
        "categories=df.finding.unique()\n",
        "print(categories)"
      ],
      "execution_count": null,
      "outputs": [
        {
          "output_type": "stream",
          "text": [
            "['COVID-19' 'ARDS' 'SARS' 'Pneumocystis' 'Streptococcus' 'No Finding'\n",
            " 'Chlamydophila' 'E.Coli' 'COVID-19, ARDS' 'Klebsiella' 'Legionella']\n"
          ],
          "name": "stdout"
        }
      ]
    },
    {
      "cell_type": "code",
      "metadata": {
        "id": "vB0sPvp2Lnkv",
        "colab_type": "code",
        "colab": {
          "base_uri": "https://localhost:8080/",
          "height": 34
        },
        "outputId": "21bfe24b-134c-4223-d6db-bea5c62a64ab"
      },
      "source": [
        "modality=df.modality.unique()\n",
        "modality_xray=modality[0]\n",
        "modality_ct=modality[1]\n",
        "print(modality_ct,modality_xray)"
      ],
      "execution_count": null,
      "outputs": [
        {
          "output_type": "stream",
          "text": [
            "CT X-ray\n"
          ],
          "name": "stdout"
        }
      ]
    },
    {
      "cell_type": "code",
      "metadata": {
        "id": "siuRJl8ROIKr",
        "colab_type": "code",
        "colab": {
          "base_uri": "https://localhost:8080/",
          "height": 34
        },
        "outputId": "363e7a73-6cde-4f89-e341-833b0614a97c"
      },
      "source": [
        "view=df.view.unique()\n",
        "print(view)"
      ],
      "execution_count": null,
      "outputs": [
        {
          "output_type": "stream",
          "text": [
            "['PA' 'AP' 'L' 'Axial' 'AP Supine' 'Coronal' 'AP semi erect']\n"
          ],
          "name": "stdout"
        }
      ]
    },
    {
      "cell_type": "markdown",
      "metadata": {
        "id": "taD5cvVRh3TF",
        "colab_type": "text"
      },
      "source": [
        "#image seperation from csv"
      ]
    },
    {
      "cell_type": "markdown",
      "metadata": {
        "id": "Q9_N-JnpjNcJ",
        "colab_type": "text"
      },
      "source": [
        "##run only once"
      ]
    },
    {
      "cell_type": "code",
      "metadata": {
        "id": "hLQDtax5Oo9H",
        "colab_type": "code",
        "colab": {
          "base_uri": "https://localhost:8080/",
          "height": 902
        },
        "outputId": "488bf8b3-924d-488e-8282-49f19b9c0b57"
      },
      "source": [
        "pip install tf-nightly"
      ],
      "execution_count": null,
      "outputs": [
        {
          "output_type": "stream",
          "text": [
            "Collecting tf-nightly\n",
            "\u001b[?25l  Downloading https://files.pythonhosted.org/packages/b8/22/7ce519a84edc96fbe6350db4aba4807887a840b5483e4d343ba3f4fcc7b9/tf_nightly-2.3.0.dev20200608-cp36-cp36m-manylinux2010_x86_64.whl (526.3MB)\n",
            "\u001b[K     |████████████████████████████████| 526.3MB 35kB/s \n",
            "\u001b[?25hRequirement already satisfied: termcolor>=1.1.0 in /usr/local/lib/python3.6/dist-packages (from tf-nightly) (1.1.0)\n",
            "Requirement already satisfied: keras-preprocessing<1.2,>=1.1.1 in /usr/local/lib/python3.6/dist-packages (from tf-nightly) (1.1.2)\n",
            "Requirement already satisfied: six>=1.12.0 in /usr/local/lib/python3.6/dist-packages (from tf-nightly) (1.12.0)\n",
            "Requirement already satisfied: grpcio>=1.8.6 in /usr/local/lib/python3.6/dist-packages (from tf-nightly) (1.29.0)\n",
            "Requirement already satisfied: numpy<2.0,>=1.16.0 in /usr/local/lib/python3.6/dist-packages (from tf-nightly) (1.18.4)\n",
            "Requirement already satisfied: opt-einsum>=2.3.2 in /usr/local/lib/python3.6/dist-packages (from tf-nightly) (3.2.1)\n",
            "Requirement already satisfied: scipy==1.4.1 in /usr/local/lib/python3.6/dist-packages (from tf-nightly) (1.4.1)\n",
            "Collecting tb-nightly<2.4.0a0,>=2.3.0a0\n",
            "\u001b[?25l  Downloading https://files.pythonhosted.org/packages/f2/d3/2fbd9e6ee1b822787bb498df73b03bdf53b224aa1a4df6f4df4b3ca2988c/tb_nightly-2.3.0a20200608-py3-none-any.whl (3.0MB)\n",
            "\u001b[K     |████████████████████████████████| 3.0MB 53.5MB/s \n",
            "\u001b[?25hRequirement already satisfied: h5py<2.11.0,>=2.10.0 in /usr/local/lib/python3.6/dist-packages (from tf-nightly) (2.10.0)\n",
            "Requirement already satisfied: gast==0.3.3 in /usr/local/lib/python3.6/dist-packages (from tf-nightly) (0.3.3)\n",
            "Requirement already satisfied: wheel>=0.26 in /usr/local/lib/python3.6/dist-packages (from tf-nightly) (0.34.2)\n",
            "Collecting tf-estimator-nightly\n",
            "\u001b[?25l  Downloading https://files.pythonhosted.org/packages/61/47/f322282f1a9e6286f00d10d8b35e6924e7ea4ac3c1410cfcfcce02d1746b/tf_estimator_nightly-2.3.0.dev2020060901-py2.py3-none-any.whl (459kB)\n",
            "\u001b[K     |████████████████████████████████| 460kB 48.8MB/s \n",
            "\u001b[?25hRequirement already satisfied: absl-py>=0.7.0 in /usr/local/lib/python3.6/dist-packages (from tf-nightly) (0.9.0)\n",
            "Requirement already satisfied: wrapt>=1.11.1 in /usr/local/lib/python3.6/dist-packages (from tf-nightly) (1.12.1)\n",
            "Requirement already satisfied: protobuf>=3.9.2 in /usr/local/lib/python3.6/dist-packages (from tf-nightly) (3.10.0)\n",
            "Requirement already satisfied: google-pasta>=0.1.8 in /usr/local/lib/python3.6/dist-packages (from tf-nightly) (0.2.0)\n",
            "Requirement already satisfied: astunparse==1.6.3 in /usr/local/lib/python3.6/dist-packages (from tf-nightly) (1.6.3)\n",
            "Requirement already satisfied: markdown>=2.6.8 in /usr/local/lib/python3.6/dist-packages (from tb-nightly<2.4.0a0,>=2.3.0a0->tf-nightly) (3.2.2)\n",
            "Requirement already satisfied: werkzeug>=0.11.15 in /usr/local/lib/python3.6/dist-packages (from tb-nightly<2.4.0a0,>=2.3.0a0->tf-nightly) (1.0.1)\n",
            "Requirement already satisfied: tensorboard-plugin-wit>=1.6.0 in /usr/local/lib/python3.6/dist-packages (from tb-nightly<2.4.0a0,>=2.3.0a0->tf-nightly) (1.6.0.post3)\n",
            "Requirement already satisfied: requests<3,>=2.21.0 in /usr/local/lib/python3.6/dist-packages (from tb-nightly<2.4.0a0,>=2.3.0a0->tf-nightly) (2.23.0)\n",
            "Requirement already satisfied: setuptools>=41.0.0 in /usr/local/lib/python3.6/dist-packages (from tb-nightly<2.4.0a0,>=2.3.0a0->tf-nightly) (47.1.1)\n",
            "Requirement already satisfied: google-auth<2,>=1.6.3 in /usr/local/lib/python3.6/dist-packages (from tb-nightly<2.4.0a0,>=2.3.0a0->tf-nightly) (1.7.2)\n",
            "Requirement already satisfied: google-auth-oauthlib<0.5,>=0.4.1 in /usr/local/lib/python3.6/dist-packages (from tb-nightly<2.4.0a0,>=2.3.0a0->tf-nightly) (0.4.1)\n",
            "Requirement already satisfied: importlib-metadata; python_version < \"3.8\" in /usr/local/lib/python3.6/dist-packages (from markdown>=2.6.8->tb-nightly<2.4.0a0,>=2.3.0a0->tf-nightly) (1.6.0)\n",
            "Requirement already satisfied: chardet<4,>=3.0.2 in /usr/local/lib/python3.6/dist-packages (from requests<3,>=2.21.0->tb-nightly<2.4.0a0,>=2.3.0a0->tf-nightly) (3.0.4)\n",
            "Requirement already satisfied: certifi>=2017.4.17 in /usr/local/lib/python3.6/dist-packages (from requests<3,>=2.21.0->tb-nightly<2.4.0a0,>=2.3.0a0->tf-nightly) (2020.4.5.1)\n",
            "Requirement already satisfied: idna<3,>=2.5 in /usr/local/lib/python3.6/dist-packages (from requests<3,>=2.21.0->tb-nightly<2.4.0a0,>=2.3.0a0->tf-nightly) (2.9)\n",
            "Requirement already satisfied: urllib3!=1.25.0,!=1.25.1,<1.26,>=1.21.1 in /usr/local/lib/python3.6/dist-packages (from requests<3,>=2.21.0->tb-nightly<2.4.0a0,>=2.3.0a0->tf-nightly) (1.24.3)\n",
            "Requirement already satisfied: pyasn1-modules>=0.2.1 in /usr/local/lib/python3.6/dist-packages (from google-auth<2,>=1.6.3->tb-nightly<2.4.0a0,>=2.3.0a0->tf-nightly) (0.2.8)\n",
            "Requirement already satisfied: cachetools<3.2,>=2.0.0 in /usr/local/lib/python3.6/dist-packages (from google-auth<2,>=1.6.3->tb-nightly<2.4.0a0,>=2.3.0a0->tf-nightly) (3.1.1)\n",
            "Requirement already satisfied: rsa<4.1,>=3.1.4 in /usr/local/lib/python3.6/dist-packages (from google-auth<2,>=1.6.3->tb-nightly<2.4.0a0,>=2.3.0a0->tf-nightly) (4.0)\n",
            "Requirement already satisfied: requests-oauthlib>=0.7.0 in /usr/local/lib/python3.6/dist-packages (from google-auth-oauthlib<0.5,>=0.4.1->tb-nightly<2.4.0a0,>=2.3.0a0->tf-nightly) (1.3.0)\n",
            "Requirement already satisfied: zipp>=0.5 in /usr/local/lib/python3.6/dist-packages (from importlib-metadata; python_version < \"3.8\"->markdown>=2.6.8->tb-nightly<2.4.0a0,>=2.3.0a0->tf-nightly) (3.1.0)\n",
            "Requirement already satisfied: pyasn1<0.5.0,>=0.4.6 in /usr/local/lib/python3.6/dist-packages (from pyasn1-modules>=0.2.1->google-auth<2,>=1.6.3->tb-nightly<2.4.0a0,>=2.3.0a0->tf-nightly) (0.4.8)\n",
            "Requirement already satisfied: oauthlib>=3.0.0 in /usr/local/lib/python3.6/dist-packages (from requests-oauthlib>=0.7.0->google-auth-oauthlib<0.5,>=0.4.1->tb-nightly<2.4.0a0,>=2.3.0a0->tf-nightly) (3.1.0)\n",
            "Installing collected packages: tb-nightly, tf-estimator-nightly, tf-nightly\n",
            "Successfully installed tb-nightly-2.3.0a20200608 tf-estimator-nightly-2.3.0.dev2020060901 tf-nightly-2.3.0.dev20200608\n"
          ],
          "name": "stdout"
        },
        {
          "output_type": "display_data",
          "data": {
            "application/vnd.colab-display-data+json": {
              "pip_warning": {
                "packages": [
                  "tensorboard",
                  "tensorflow"
                ]
              }
            }
          },
          "metadata": {
            "tags": []
          }
        }
      ]
    },
    {
      "cell_type": "markdown",
      "metadata": {
        "id": "hOcqUHJFXxPN",
        "colab_type": "text"
      },
      "source": [
        "## creating directory named on each disease type "
      ]
    },
    {
      "cell_type": "markdown",
      "metadata": {
        "id": "kY2QGZoGdyLE",
        "colab_type": "text"
      },
      "source": [
        "*   defining a path where images to be trained will reside \n",
        "*   for each type of disease creating another folder named repectively\n",
        "\n",
        "EXAMPLE\n",
        "*   dataset/train/covid19\n",
        "*   dataset/train/ARDS"
      ]
    },
    {
      "cell_type": "code",
      "metadata": {
        "id": "m23Bk4IynBX4",
        "colab_type": "code",
        "colab": {
          "base_uri": "https://localhost:8080/",
          "height": 207
        },
        "outputId": "02f6384a-5cfc-4991-8b9a-90ae36fb61c8"
      },
      "source": [
        "#import os\n",
        "# define the name of the directory to be created\n",
        "path = \"dataset/train\"\n",
        "for category in categories:\n",
        "  try:\n",
        "      dir = os.path.join(path,category)\n",
        "      os.mkdir(dir)\n",
        "  except OSError:\n",
        "      print (\"Creation of the directory %s failed\" % path)\n",
        "  else:\n",
        "      print (\"Successfully created the directory %s \" % path) "
      ],
      "execution_count": null,
      "outputs": [
        {
          "output_type": "stream",
          "text": [
            "Successfully created the directory dataset/train \n",
            "Successfully created the directory dataset/train \n",
            "Successfully created the directory dataset/train \n",
            "Successfully created the directory dataset/train \n",
            "Successfully created the directory dataset/train \n",
            "Successfully created the directory dataset/train \n",
            "Successfully created the directory dataset/train \n",
            "Successfully created the directory dataset/train \n",
            "Successfully created the directory dataset/train \n",
            "Successfully created the directory dataset/train \n",
            "Successfully created the directory dataset/train \n"
          ],
          "name": "stdout"
        }
      ]
    },
    {
      "cell_type": "markdown",
      "metadata": {
        "id": "7bpK6A5QX_uQ",
        "colab_type": "text"
      },
      "source": [
        "## transfering image to their respective directory"
      ]
    },
    {
      "cell_type": "markdown",
      "metadata": {
        "id": "E-3oQqjqeu0Q",
        "colab_type": "text"
      },
      "source": [
        "*   src = where all type of images reside \n",
        "*   path = destination where they need to be copied \n",
        "*   row= with the help of csv file acess name of images and its diseaase name \n",
        "*   copy image to its destination using shutil.copy"
      ]
    },
    {
      "cell_type": "code",
      "metadata": {
        "id": "i9sdSDxwojF6",
        "colab_type": "code",
        "colab": {}
      },
      "source": [
        "#import shutil\n",
        "src='images'\n",
        "path = \"dataset/train\"\n",
        "for category in categories:\n",
        "  dir=os.path.join(path,category)\n",
        "  row=df.loc[df['finding'] == category]['filename']\n",
        "  for r in row:\n",
        "    s=os.path.join(src,r)\n",
        "    #print(s,dir)\n",
        "    try:\n",
        "      shutil.copy2(s,dir)\n",
        "    except:\n",
        "      continue\n",
        "  #print(row)"
      ],
      "execution_count": null,
      "outputs": []
    },
    {
      "cell_type": "markdown",
      "metadata": {
        "id": "UOX6iH0biPL-",
        "colab_type": "text"
      },
      "source": [
        "#creating X and Y"
      ]
    },
    {
      "cell_type": "markdown",
      "metadata": {
        "id": "AgaKu8PmfibY",
        "colab_type": "text"
      },
      "source": [
        "*   DATADIR = directory where images to be trained reside \n",
        "*   IMG_SIZE= size of image fixed for all images (resize image)\n",
        "*   categories = classes (list of distinct diseases)\n",
        "*   training_data= will contain map of image and its coresponding class\n",
        "*   class _num= gets index value of disease in categories \n",
        "FOR EACH IMG IN PATH \n",
        "*   img_arr= read image as array with open cv in grey format (you change it to color)\n",
        "*   new_arr= resizing each image \n",
        "*   adding resized image into training_data with its class_num\n",
        "*   shuffling training_data\n"
      ]
    },
    {
      "cell_type": "code",
      "metadata": {
        "id": "baTk2DLZiOjZ",
        "colab_type": "code",
        "colab": {}
      },
      "source": [
        "#import cv2\n",
        "#import random\n",
        "#import pickle\n",
        "DATADIR = \"dataset/train\"\n",
        "# The size of the images that your neural network will use\n",
        "IMG_SIZE = 50\n",
        "# defining CATEGORIES\n",
        "CATEGORIES=list(categories)\n",
        "#defining traing data\n",
        "training_data = []\n",
        "\n",
        "def create_training_data():\n",
        "\tfor category in CATEGORIES :\n",
        "\t\tpath = os.path.join(DATADIR, category)\n",
        "\t\tclass_num = CATEGORIES.index(category)\n",
        "\t\tfor img in os.listdir(path):\n",
        "\t\t\ttry :\n",
        "\t\t\t\timg_array = cv2.imread(os.path.join(path, img),0)\n",
        "\t\t\t\tnew_array = cv2.resize(img_array, (IMG_SIZE, IMG_SIZE))\n",
        "\t\t    #mapping image with its class\n",
        "\t\t\t\ttraining_data.append([new_array, class_num])\n",
        "\t\t\texcept Exception as e:\n",
        "\t\t\t\tprint(e)\n",
        "\t\t\t\tpass\n",
        "\n",
        "create_training_data()\n",
        "\n",
        "random.shuffle(training_data)\n",
        "\n",
        "\n"
      ],
      "execution_count": null,
      "outputs": []
    },
    {
      "cell_type": "markdown",
      "metadata": {
        "id": "e2Vn4oCXMYOq",
        "colab_type": "text"
      },
      "source": [
        "## x and y seperation"
      ]
    },
    {
      "cell_type": "markdown",
      "metadata": {
        "id": "k_6L3FTYiOaQ",
        "colab_type": "text"
      },
      "source": [
        "*   X =contains all images as array that goes for training model from training_data\n",
        "*   y = conatins classes with respect to each imagefrom training_data\n",
        "*   np.array().reshape() = reducing dimension of X"
      ]
    },
    {
      "cell_type": "code",
      "metadata": {
        "id": "BJ5NQxR9MUc0",
        "colab_type": "code",
        "colab": {
          "base_uri": "https://localhost:8080/",
          "height": 34
        },
        "outputId": "7769346b-32e4-40dc-dc87-934d9c7633d3"
      },
      "source": [
        "X = [] #features\n",
        "y = [] #labels\n",
        "\n",
        "for features, label in training_data:\n",
        "  #print(features.shape)\n",
        "  X.append(features)\n",
        "  y.append(label)\n",
        "\n",
        "X = np.array(X).reshape(-1, IMG_SIZE, IMG_SIZE)\n",
        "#X = np.asarray(X)\n",
        "print(X.shape)\n",
        "#print(X)"
      ],
      "execution_count": null,
      "outputs": [
        {
          "output_type": "stream",
          "text": [
            "(397, 50, 50)\n"
          ],
          "name": "stdout"
        }
      ]
    },
    {
      "cell_type": "markdown",
      "metadata": {
        "id": "xNGQPsnPMNUV",
        "colab_type": "text"
      },
      "source": [
        "#creating pickle file"
      ]
    },
    {
      "cell_type": "markdown",
      "metadata": {
        "id": "Yq4DPtyvjHDU",
        "colab_type": "text"
      },
      "source": [
        "*   X.pickle = saving values of X for further use in pickle file format \n",
        "*   y.pickle = saving values of Y for further use in pickle file format"
      ]
    },
    {
      "cell_type": "code",
      "metadata": {
        "id": "VVheI7hrMInU",
        "colab_type": "code",
        "colab": {}
      },
      "source": [
        "# Creating the files containing all the information about your model\n",
        "pickle_out = open(\"X.pickle\", \"wb\")\n",
        "pickle.dump(X, pickle_out)\n",
        "pickle_out.close()\n",
        "\n",
        "pickle_out = open(\"y.pickle\", \"wb\")\n",
        "pickle.dump(y, pickle_out)\n",
        "pickle_out.close()\n",
        "\n",
        "pickle_in = open(\"X.pickle\", \"rb\")\n",
        "X = pickle.load(pickle_in)"
      ],
      "execution_count": null,
      "outputs": []
    },
    {
      "cell_type": "markdown",
      "metadata": {
        "id": "Az1sFVYko6Of",
        "colab_type": "text"
      },
      "source": [
        "# Try Model"
      ]
    },
    {
      "cell_type": "markdown",
      "metadata": {
        "id": "VWtC_9FwtrMZ",
        "colab_type": "text"
      },
      "source": [
        "#model1"
      ]
    },
    {
      "cell_type": "markdown",
      "metadata": {
        "id": "_MCQsEqnjnE_",
        "colab_type": "text"
      },
      "source": [
        "*   model type= sequential()\n",
        "*   layer type = convolution 2d \n",
        "*   window size (kernel)= 3*3 \n",
        "*   no of filters = 32->32->64->64->128->128->512->128->total_no_classes\n",
        "*   operations in between =batch_normalization->(batch_normalization->maxpooling->dropout)->(batch_normalization->dropout)->(batch_normalization->dropout)->(batch_normalization->maxpooling->dropout)->[now moving towards flattening of layers ]->flatten->(batch_normalization->dropout)->(batch_normalization->dropout)\n",
        "*  internal activation function =relu \n",
        "*  outer activation function = softmax\n",
        "*  type of loss function =sparse_categorial_cross_entropy\n",
        "*  optimizer=\"adam\"\n",
        "*  metrics='accuracy'"
      ]
    },
    {
      "cell_type": "code",
      "metadata": {
        "id": "uMi8QhIDk95d",
        "colab_type": "code",
        "colab": {}
      },
      "source": [
        "import tensorflow as tf \n",
        "from tensorflow.keras.models import Sequential\n",
        "from tensorflow.keras.layers import Dense, Dropout, Activation, Flatten, Conv2D, MaxPooling2D,BatchNormalization\n",
        "import pickle\n",
        "from keras.models import model_from_json\n",
        "from keras.models import load_model\n",
        "import matplotlib.pyplot as plt\n",
        "import numpy as np\n",
        "from keras.optimizers import SGD\n",
        "\n",
        "#df = read_csv(\"credit_count.txt\")\n",
        "# Opening the files about data\n",
        "X = pickle.load(open(\"X.pickle\", \"rb\"))\n",
        "# normalizing data (a pixel goes from 0 to 255)\n",
        "#X = X/255.0\n",
        "\n",
        "Y = pickle.load(open(\"y.pickle\", \"rb\"))\n",
        "X = X/255.0\n",
        "\n",
        "''''''\n",
        "#conv\n",
        "input_shape = X.shape[1:]\n",
        "model1 = Sequential()\n",
        "model1.add(Conv2D(32, kernel_size=(3, 3), activation='relu', input_shape=input_shape))\n",
        "model1.add(BatchNormalization())\n",
        "\n",
        "model1.add(Conv2D(32, kernel_size=(3, 3), activation='relu'))\n",
        "model1.add(BatchNormalization())\n",
        "model1.add(MaxPooling2D(pool_size=(2, 2)))\n",
        "model1.add(Dropout(0.25))\n",
        "\n",
        "model1.add(Conv2D(64, kernel_size=(3, 3), activation='relu'))\n",
        "model1.add(BatchNormalization())\n",
        "model1.add(Dropout(0.25))\n",
        "\n",
        "model1.add(Conv2D(64, kernel_size=(3, 3), activation='relu'))\n",
        "model1.add(BatchNormalization())\n",
        "model1.add(Dropout(0.25))\n",
        "\n",
        "model1.add(Conv2D(128, kernel_size=(3, 3), activation='relu'))\n",
        "model1.add(BatchNormalization())\n",
        "model1.add(MaxPooling2D(pool_size=(2, 2)))\n",
        "model1.add(Dropout(0.25))\n",
        "\n",
        "model1.add(Flatten())\n",
        "\n",
        "model1.add(Dense(512, activation='relu'))\n",
        "model1.add(BatchNormalization())\n",
        "model1.add(Dropout(0.5))\n",
        "\n",
        "model1.add(Dense(128, activation='relu'))\n",
        "model1.add(BatchNormalization())\n",
        "model1.add(Dropout(0.5))\n",
        "\n",
        "\n",
        "model1.add(Dense(12, activation='softmax'))\n",
        "\n",
        "model1.compile(loss=\"sparse_categorical_crossentropy\",optimizer=\"adam\",metrics=['accuracy'])\n",
        "sgd = SGD(lr = 0.1, momentum = 0.9)\n",
        "#model.compile(optimizer = \"adam\", loss = 'binary_crossentropy',  metrics = ['binary_accuracy'])"
      ],
      "execution_count": null,
      "outputs": []
    },
    {
      "cell_type": "markdown",
      "metadata": {
        "id": "Q2qAnb_2toRQ",
        "colab_type": "text"
      },
      "source": [
        "#model2"
      ]
    },
    {
      "cell_type": "markdown",
      "metadata": {
        "id": "pQx6s6j3wlID",
        "colab_type": "text"
      },
      "source": [
        "*   model type= sequential()\n",
        "*   layer type = convolution 2d \n",
        "*   window size (kernel)= 3*3 \n",
        "*   no of filters = (32->32->32)->(64->64)->(64->64)->(128,128)->(128,128)->(256->256)->256->512->128->total_no_classes\n",
        "*   operations in between =batch_normalization->(batch_normalization->maxpooling->dropout)->(batch_normalization->dropout)->(batch_normalization->dropout)->(batch_normalization->maxpooling->dropout)->[now moving towards flattening of layers ]->flatten->(batch_normalization->dropout)->(batch_normalization->dropout)\n",
        "*  internal activation function =relu \n",
        "*  outer activation function = softmax\n",
        "*  type of loss function =sparse_categorial_cross_entropy\n",
        "*  optimizer=\"adam\"\n",
        "*  metrics='accuracy'"
      ]
    },
    {
      "cell_type": "code",
      "metadata": {
        "id": "lM6xt6Elgc1g",
        "colab_type": "code",
        "colab": {
          "base_uri": "https://localhost:8080/",
          "height": 138
        },
        "outputId": "decebaec-b67f-43b8-84eb-d7fb058cc9f2"
      },
      "source": [
        "from tensorflow.keras.layers import MaxPooling2D as MaxPool2D\n",
        "#df = read_csv(\"credit_count.txt\")\n",
        "# Opening the files about data\n",
        "X = pickle.load(open(\"X.pickle\", \"rb\"))\n",
        "# normalizing data (a pixel goes from 0 to 255)\n",
        "#X = X/255.0\n",
        "\n",
        "Y = pickle.load(open(\"y.pickle\", \"rb\"))\n",
        "X = X/255.0\n",
        "\n",
        "input_shape = X.shape[1:]\n",
        "model = Sequential()\n",
        "\n",
        "model.add(Conv2D(filters=32, kernel_size=(3, 3), padding='Same', activation='relu', input_shape=input_shape))\n",
        "model.add(Conv2D(filters=32, kernel_size=(3, 3), padding='Same'))\n",
        "model.add(Conv2D(filters=32, kernel_size=(3, 3), padding='Same'))\n",
        "model.add(BatchNormalization())\n",
        "model.add(MaxPooling2D(pool_size=(2, 2)))\n",
        "model.add(Dropout(0.1))\n",
        "\n",
        "print(1)\n",
        "\n",
        "model.add(Conv2D(filters=64, kernel_size=(3, 3), padding='Same', activation='relu'))\n",
        "model.add(Conv2D(filters=64, kernel_size=(3, 3), padding='Same', activation='relu'))\n",
        "model.add(BatchNormalization())\n",
        "model.add(MaxPool2D(pool_size=(2, 2)))\n",
        "model.add(Dropout(0.1))\n",
        "\n",
        "print(2)\n",
        "\n",
        "model.add(Conv2D(filters=64, kernel_size=(3, 3), padding='Same', activation='relu'))\n",
        "model.add(Conv2D(filters=64, kernel_size=(3, 3), padding='Same', activation='relu'))\n",
        "model.add(BatchNormalization())\n",
        "model.add(MaxPool2D(pool_size=(2, 2)))\n",
        "model.add(Dropout(0.1))\n",
        "\n",
        "print(3)\n",
        "\n",
        "model.add(Conv2D(filters=128, kernel_size=(3, 3), padding='Same', activation='relu'))\n",
        "model.add(Conv2D(filters=128, kernel_size=(3, 3), padding='Same', activation='relu'))\n",
        "model.add(BatchNormalization())\n",
        "model.add(MaxPool2D(pool_size=(2, 2)))\n",
        "model.add(Dropout(0.1))\n",
        "\n",
        "print(4)\n",
        "\n",
        "model.add(Conv2D(filters=128, kernel_size=(3, 3), padding='Same', activation='relu'))\n",
        "model.add(Conv2D(filters=128, kernel_size=(3, 3), padding='Same', activation='relu'))\n",
        "model.add(BatchNormalization())\n",
        "model.add(MaxPool2D(pool_size=(2, 2)))\n",
        "model.add(Dropout(0.1))\n",
        "\n",
        "print(5)\n",
        "\n",
        "model.add(Conv2D(filters=256, kernel_size=(3, 3), padding='Same', activation='relu'))\n",
        "model.add(Conv2D(filters=256, kernel_size=(3, 3), padding='Same', activation='relu'))\n",
        "model.add(BatchNormalization())\n",
        "model.add(Dropout(0.1))\n",
        "#model.add(MaxPool2D(pool_size=(2, 2)))\n",
        "print(6)\n",
        "\n",
        "model.add(Conv2D(filters=256, kernel_size=(3, 3), padding='Same', activation='relu'))\n",
        "model.add(BatchNormalization())\n",
        "model.add(Dropout(0.1))\n",
        "#model.add(MaxPool2D(pool_size=(2, 2)))\n",
        "print(7)\n",
        "\n",
        "#dense block with activation function\n",
        "model.add(Flatten())\n",
        "model.add(Dense(512, activation='relu'))\n",
        "model.add(BatchNormalization())\n",
        "model.add(Dropout(0.5))\n",
        "\n",
        "model.add(Dense(128, activation='relu'))\n",
        "model.add(BatchNormalization())\n",
        "model.add(Dropout(0.5))\n",
        "\n",
        "model.add(Dense(12, activation='softmax'))\n",
        "model.compile(loss=\"sparse_categorical_crossentropy\",optimizer=\"adam\",metrics=['accuracy'])"
      ],
      "execution_count": null,
      "outputs": [
        {
          "output_type": "stream",
          "text": [
            "1\n",
            "2\n",
            "3\n",
            "4\n",
            "5\n",
            "6\n",
            "7\n"
          ],
          "name": "stdout"
        }
      ]
    },
    {
      "cell_type": "code",
      "metadata": {
        "id": "Bin6jPtu4l7w",
        "colab_type": "code",
        "colab": {}
      },
      "source": [
        ""
      ],
      "execution_count": null,
      "outputs": []
    },
    {
      "cell_type": "markdown",
      "metadata": {
        "id": "Qkt-K0-eyyHf",
        "colab_type": "text"
      },
      "source": [
        "confirming type of array to be passesd in model to fit"
      ]
    },
    {
      "cell_type": "code",
      "metadata": {
        "id": "h3lQK_nrtNnl",
        "colab_type": "code",
        "colab": {
          "base_uri": "https://localhost:8080/",
          "height": 52
        },
        "outputId": "958c8a16-b4a4-4bcc-89bd-547d9b8fc185"
      },
      "source": [
        "print(type(X))\n",
        "Y=np.array(Y)\n",
        "print(type(Y))"
      ],
      "execution_count": null,
      "outputs": [
        {
          "output_type": "stream",
          "text": [
            "<class 'numpy.ndarray'>\n",
            "<class 'numpy.ndarray'>\n"
          ],
          "name": "stdout"
        }
      ]
    },
    {
      "cell_type": "markdown",
      "metadata": {
        "id": "n_u3XM_py8mw",
        "colab_type": "text"
      },
      "source": [
        "* fitting model with batch size 10 epochs as 100 and split as 1% data for validation\n",
        "* converting  model in json format thus easy to save and read and acess\n",
        "*  **saving its weights in h5 format \n",
        "these weights can be reused in other model hence its a good habit to save weights of a model ,trained mode**"
      ]
    },
    {
      "cell_type": "markdown",
      "metadata": {
        "id": "98x5qAaX0C2q",
        "colab_type": "text"
      },
      "source": [
        "###model1 fit"
      ]
    },
    {
      "cell_type": "code",
      "metadata": {
        "id": "_VeBjIIXrJBH",
        "colab_type": "code",
        "colab": {
          "base_uri": "https://localhost:8080/",
          "height": 1000
        },
        "outputId": "03085b89-93d8-4242-e76d-7b169432ab95"
      },
      "source": [
        "# Training the model, with 40 iterations\n",
        "# validation_split corresponds to the percentage of images used for the validation phase compared to all the images\n",
        "\n",
        "history = model.fit(X, Y, batch_size=10, epochs=100, validation_split=0.1)\n",
        "\n",
        "# Saving the model\n",
        "model_json = model.to_json()\n",
        "with open(\"model.json\", \"w\") as json_file :\n",
        "\tjson_file.write(model_json)\n",
        "\n",
        "model.save_weights(\"model.h5\")\n",
        "print(\"Saved model to disk\")\n",
        "\n",
        "model.save('CNN.model')\n",
        "\n"
      ],
      "execution_count": null,
      "outputs": [
        {
          "output_type": "stream",
          "text": [
            "Epoch 1/100\n",
            "36/36 [==============================] - 1s 34ms/step - loss: 3.6226 - accuracy: 0.1120 - val_loss: 2.0647 - val_accuracy: 0.8250\n",
            "Epoch 2/100\n",
            "36/36 [==============================] - 1s 22ms/step - loss: 3.0101 - accuracy: 0.1737 - val_loss: 1.6001 - val_accuracy: 0.8250\n",
            "Epoch 3/100\n",
            "36/36 [==============================] - 1s 22ms/step - loss: 2.6451 - accuracy: 0.2605 - val_loss: 1.5054 - val_accuracy: 0.8250\n",
            "Epoch 4/100\n",
            "36/36 [==============================] - 1s 22ms/step - loss: 2.2554 - accuracy: 0.3193 - val_loss: 1.2196 - val_accuracy: 0.8250\n",
            "Epoch 5/100\n",
            "36/36 [==============================] - 1s 22ms/step - loss: 2.0022 - accuracy: 0.4370 - val_loss: 1.0089 - val_accuracy: 0.8250\n",
            "Epoch 6/100\n",
            "36/36 [==============================] - 1s 22ms/step - loss: 1.7107 - accuracy: 0.5014 - val_loss: 0.8600 - val_accuracy: 0.8250\n",
            "Epoch 7/100\n",
            "36/36 [==============================] - 1s 22ms/step - loss: 1.4938 - accuracy: 0.6134 - val_loss: 0.8594 - val_accuracy: 0.8250\n",
            "Epoch 8/100\n",
            "36/36 [==============================] - 1s 22ms/step - loss: 1.4123 - accuracy: 0.6331 - val_loss: 0.9670 - val_accuracy: 0.8250\n",
            "Epoch 9/100\n",
            "36/36 [==============================] - 1s 22ms/step - loss: 1.3493 - accuracy: 0.6807 - val_loss: 0.8195 - val_accuracy: 0.8250\n",
            "Epoch 10/100\n",
            "36/36 [==============================] - 1s 23ms/step - loss: 1.2404 - accuracy: 0.7339 - val_loss: 0.7312 - val_accuracy: 0.8250\n",
            "Epoch 11/100\n",
            "36/36 [==============================] - 1s 23ms/step - loss: 1.2356 - accuracy: 0.7423 - val_loss: 0.7655 - val_accuracy: 0.8250\n",
            "Epoch 12/100\n",
            "36/36 [==============================] - 1s 23ms/step - loss: 1.3034 - accuracy: 0.7143 - val_loss: 0.7242 - val_accuracy: 0.8250\n",
            "Epoch 13/100\n",
            "36/36 [==============================] - 1s 22ms/step - loss: 1.1045 - accuracy: 0.7563 - val_loss: 0.8304 - val_accuracy: 0.8250\n",
            "Epoch 14/100\n",
            "36/36 [==============================] - 1s 22ms/step - loss: 1.1416 - accuracy: 0.7563 - val_loss: 0.7646 - val_accuracy: 0.8750\n",
            "Epoch 15/100\n",
            "36/36 [==============================] - 1s 23ms/step - loss: 1.1708 - accuracy: 0.7311 - val_loss: 0.6974 - val_accuracy: 0.8250\n",
            "Epoch 16/100\n",
            "36/36 [==============================] - 1s 23ms/step - loss: 1.1605 - accuracy: 0.7367 - val_loss: 0.6981 - val_accuracy: 0.8250\n",
            "Epoch 17/100\n",
            "36/36 [==============================] - 1s 22ms/step - loss: 1.0823 - accuracy: 0.7479 - val_loss: 0.6631 - val_accuracy: 0.8250\n",
            "Epoch 18/100\n",
            "36/36 [==============================] - 1s 23ms/step - loss: 1.0970 - accuracy: 0.7395 - val_loss: 0.6455 - val_accuracy: 0.8250\n",
            "Epoch 19/100\n",
            "36/36 [==============================] - 1s 23ms/step - loss: 1.0910 - accuracy: 0.7647 - val_loss: 0.6314 - val_accuracy: 0.8250\n",
            "Epoch 20/100\n",
            "36/36 [==============================] - 1s 23ms/step - loss: 1.0522 - accuracy: 0.7647 - val_loss: 0.7037 - val_accuracy: 0.8250\n",
            "Epoch 21/100\n",
            "36/36 [==============================] - 1s 22ms/step - loss: 1.0567 - accuracy: 0.7731 - val_loss: 0.6327 - val_accuracy: 0.8250\n",
            "Epoch 22/100\n",
            "36/36 [==============================] - 1s 22ms/step - loss: 1.0446 - accuracy: 0.7563 - val_loss: 0.6600 - val_accuracy: 0.8250\n",
            "Epoch 23/100\n",
            "36/36 [==============================] - 1s 22ms/step - loss: 0.9891 - accuracy: 0.7675 - val_loss: 0.7209 - val_accuracy: 0.8250\n",
            "Epoch 24/100\n",
            "36/36 [==============================] - 1s 22ms/step - loss: 1.0334 - accuracy: 0.7759 - val_loss: 0.6646 - val_accuracy: 0.8250\n",
            "Epoch 25/100\n",
            "36/36 [==============================] - 1s 22ms/step - loss: 0.9682 - accuracy: 0.7563 - val_loss: 0.7131 - val_accuracy: 0.8250\n",
            "Epoch 26/100\n",
            "36/36 [==============================] - 1s 22ms/step - loss: 0.9794 - accuracy: 0.7759 - val_loss: 0.6099 - val_accuracy: 0.8250\n",
            "Epoch 27/100\n",
            "36/36 [==============================] - 1s 22ms/step - loss: 0.9816 - accuracy: 0.7451 - val_loss: 0.6935 - val_accuracy: 0.8250\n",
            "Epoch 28/100\n",
            "36/36 [==============================] - 1s 22ms/step - loss: 0.9434 - accuracy: 0.7563 - val_loss: 0.6938 - val_accuracy: 0.8250\n",
            "Epoch 29/100\n",
            "36/36 [==============================] - 1s 22ms/step - loss: 0.8726 - accuracy: 0.7731 - val_loss: 0.6378 - val_accuracy: 0.8250\n",
            "Epoch 30/100\n",
            "36/36 [==============================] - 1s 22ms/step - loss: 0.9227 - accuracy: 0.7591 - val_loss: 0.6009 - val_accuracy: 0.8250\n",
            "Epoch 31/100\n",
            "36/36 [==============================] - 1s 22ms/step - loss: 0.9249 - accuracy: 0.7619 - val_loss: 0.6163 - val_accuracy: 0.8250\n",
            "Epoch 32/100\n",
            "36/36 [==============================] - 1s 22ms/step - loss: 0.9084 - accuracy: 0.7591 - val_loss: 0.6249 - val_accuracy: 0.8250\n",
            "Epoch 33/100\n",
            "36/36 [==============================] - 1s 22ms/step - loss: 0.8884 - accuracy: 0.7759 - val_loss: 0.8794 - val_accuracy: 0.8250\n",
            "Epoch 34/100\n",
            "36/36 [==============================] - 1s 22ms/step - loss: 0.9838 - accuracy: 0.7759 - val_loss: 0.8545 - val_accuracy: 0.8250\n",
            "Epoch 35/100\n",
            "36/36 [==============================] - 1s 22ms/step - loss: 0.9590 - accuracy: 0.7703 - val_loss: 1.4532 - val_accuracy: 0.5250\n",
            "Epoch 36/100\n",
            "36/36 [==============================] - 1s 22ms/step - loss: 0.9521 - accuracy: 0.7647 - val_loss: 0.6755 - val_accuracy: 0.8250\n",
            "Epoch 37/100\n",
            "36/36 [==============================] - 1s 23ms/step - loss: 0.9926 - accuracy: 0.7703 - val_loss: 0.6337 - val_accuracy: 0.8250\n",
            "Epoch 38/100\n",
            "36/36 [==============================] - 1s 22ms/step - loss: 0.9651 - accuracy: 0.7591 - val_loss: 0.6796 - val_accuracy: 0.8250\n",
            "Epoch 39/100\n",
            "36/36 [==============================] - 1s 22ms/step - loss: 0.9541 - accuracy: 0.7535 - val_loss: 0.7456 - val_accuracy: 0.8250\n",
            "Epoch 40/100\n",
            "36/36 [==============================] - 1s 22ms/step - loss: 0.9064 - accuracy: 0.7815 - val_loss: 0.7337 - val_accuracy: 0.8250\n",
            "Epoch 41/100\n",
            "36/36 [==============================] - 1s 23ms/step - loss: 0.8716 - accuracy: 0.7619 - val_loss: 0.6617 - val_accuracy: 0.8250\n",
            "Epoch 42/100\n",
            "36/36 [==============================] - 1s 23ms/step - loss: 0.8602 - accuracy: 0.7759 - val_loss: 0.6743 - val_accuracy: 0.8250\n",
            "Epoch 43/100\n",
            "36/36 [==============================] - 1s 23ms/step - loss: 0.8284 - accuracy: 0.7843 - val_loss: 0.6725 - val_accuracy: 0.8500\n",
            "Epoch 44/100\n",
            "36/36 [==============================] - 1s 23ms/step - loss: 0.8519 - accuracy: 0.7871 - val_loss: 0.5995 - val_accuracy: 0.8500\n",
            "Epoch 45/100\n",
            "36/36 [==============================] - 1s 23ms/step - loss: 0.8501 - accuracy: 0.7927 - val_loss: 0.5531 - val_accuracy: 0.8250\n",
            "Epoch 46/100\n",
            "36/36 [==============================] - 1s 22ms/step - loss: 0.8639 - accuracy: 0.7759 - val_loss: 0.7864 - val_accuracy: 0.7750\n",
            "Epoch 47/100\n",
            "36/36 [==============================] - 1s 22ms/step - loss: 0.8926 - accuracy: 0.7871 - val_loss: 0.5394 - val_accuracy: 0.8500\n",
            "Epoch 48/100\n",
            "36/36 [==============================] - 1s 22ms/step - loss: 0.7818 - accuracy: 0.7927 - val_loss: 0.5314 - val_accuracy: 0.8750\n",
            "Epoch 49/100\n",
            "36/36 [==============================] - 1s 22ms/step - loss: 0.8291 - accuracy: 0.7843 - val_loss: 0.5693 - val_accuracy: 0.8500\n",
            "Epoch 50/100\n",
            "36/36 [==============================] - 1s 22ms/step - loss: 0.8390 - accuracy: 0.7815 - val_loss: 0.5599 - val_accuracy: 0.8250\n",
            "Epoch 51/100\n",
            "36/36 [==============================] - 1s 22ms/step - loss: 0.7916 - accuracy: 0.7955 - val_loss: 1.2393 - val_accuracy: 0.8250\n",
            "Epoch 52/100\n",
            "36/36 [==============================] - 1s 23ms/step - loss: 0.8395 - accuracy: 0.7983 - val_loss: 0.8580 - val_accuracy: 0.8250\n",
            "Epoch 53/100\n",
            "36/36 [==============================] - 1s 22ms/step - loss: 0.8700 - accuracy: 0.7787 - val_loss: 0.6809 - val_accuracy: 0.7750\n",
            "Epoch 54/100\n",
            "36/36 [==============================] - 1s 22ms/step - loss: 0.7598 - accuracy: 0.8011 - val_loss: 0.6550 - val_accuracy: 0.8000\n",
            "Epoch 55/100\n",
            "36/36 [==============================] - 1s 22ms/step - loss: 0.7900 - accuracy: 0.7815 - val_loss: 0.5539 - val_accuracy: 0.8250\n",
            "Epoch 56/100\n",
            "36/36 [==============================] - 1s 22ms/step - loss: 0.7753 - accuracy: 0.7815 - val_loss: 0.5033 - val_accuracy: 0.8500\n",
            "Epoch 57/100\n",
            "36/36 [==============================] - 1s 22ms/step - loss: 0.8224 - accuracy: 0.7927 - val_loss: 0.7063 - val_accuracy: 0.8250\n",
            "Epoch 58/100\n",
            "36/36 [==============================] - 1s 22ms/step - loss: 0.7330 - accuracy: 0.8039 - val_loss: 0.9288 - val_accuracy: 0.8250\n",
            "Epoch 59/100\n",
            "36/36 [==============================] - 1s 22ms/step - loss: 0.7419 - accuracy: 0.7983 - val_loss: 0.6885 - val_accuracy: 0.7750\n",
            "Epoch 60/100\n",
            "36/36 [==============================] - 1s 22ms/step - loss: 0.7641 - accuracy: 0.7983 - val_loss: 0.7590 - val_accuracy: 0.8250\n",
            "Epoch 61/100\n",
            "36/36 [==============================] - 1s 22ms/step - loss: 0.7040 - accuracy: 0.8123 - val_loss: 0.6035 - val_accuracy: 0.8250\n",
            "Epoch 62/100\n",
            "36/36 [==============================] - 1s 22ms/step - loss: 0.6579 - accuracy: 0.8011 - val_loss: 0.5945 - val_accuracy: 0.8250\n",
            "Epoch 63/100\n",
            "36/36 [==============================] - 1s 22ms/step - loss: 0.7607 - accuracy: 0.7815 - val_loss: 1.1494 - val_accuracy: 0.8250\n",
            "Epoch 64/100\n",
            "36/36 [==============================] - 1s 22ms/step - loss: 0.6962 - accuracy: 0.7927 - val_loss: 0.9717 - val_accuracy: 0.8250\n",
            "Epoch 65/100\n",
            "36/36 [==============================] - 1s 23ms/step - loss: 0.7745 - accuracy: 0.7955 - val_loss: 0.9920 - val_accuracy: 0.8250\n",
            "Epoch 66/100\n",
            "36/36 [==============================] - 1s 22ms/step - loss: 0.6844 - accuracy: 0.8039 - val_loss: 0.8468 - val_accuracy: 0.8250\n",
            "Epoch 67/100\n",
            "36/36 [==============================] - 1s 22ms/step - loss: 0.7492 - accuracy: 0.8011 - val_loss: 0.7157 - val_accuracy: 0.8250\n",
            "Epoch 68/100\n",
            "36/36 [==============================] - 1s 22ms/step - loss: 0.7196 - accuracy: 0.7955 - val_loss: 0.5685 - val_accuracy: 0.7750\n",
            "Epoch 69/100\n",
            "36/36 [==============================] - 1s 22ms/step - loss: 0.7427 - accuracy: 0.7955 - val_loss: 0.5728 - val_accuracy: 0.7500\n",
            "Epoch 70/100\n",
            "36/36 [==============================] - 1s 22ms/step - loss: 0.6893 - accuracy: 0.8151 - val_loss: 1.1248 - val_accuracy: 0.6500\n",
            "Epoch 71/100\n",
            "36/36 [==============================] - 1s 22ms/step - loss: 0.6421 - accuracy: 0.8179 - val_loss: 0.5831 - val_accuracy: 0.8250\n",
            "Epoch 72/100\n",
            "36/36 [==============================] - 1s 22ms/step - loss: 0.6359 - accuracy: 0.8151 - val_loss: 1.1359 - val_accuracy: 0.8250\n",
            "Epoch 73/100\n",
            "36/36 [==============================] - 1s 22ms/step - loss: 0.7107 - accuracy: 0.7983 - val_loss: 0.6785 - val_accuracy: 0.7750\n",
            "Epoch 74/100\n",
            "36/36 [==============================] - 1s 22ms/step - loss: 0.6331 - accuracy: 0.8067 - val_loss: 1.5040 - val_accuracy: 0.5000\n",
            "Epoch 75/100\n",
            "36/36 [==============================] - 1s 23ms/step - loss: 0.7307 - accuracy: 0.7815 - val_loss: 0.6988 - val_accuracy: 0.8250\n",
            "Epoch 76/100\n",
            "36/36 [==============================] - 1s 22ms/step - loss: 0.7778 - accuracy: 0.7871 - val_loss: 1.5930 - val_accuracy: 0.5250\n",
            "Epoch 77/100\n",
            "36/36 [==============================] - 1s 22ms/step - loss: 0.7526 - accuracy: 0.7955 - val_loss: 0.6061 - val_accuracy: 0.8500\n",
            "Epoch 78/100\n",
            "36/36 [==============================] - 1s 22ms/step - loss: 0.6533 - accuracy: 0.8151 - val_loss: 0.7419 - val_accuracy: 0.7750\n",
            "Epoch 79/100\n",
            "36/36 [==============================] - 1s 22ms/step - loss: 0.6758 - accuracy: 0.8067 - val_loss: 0.6954 - val_accuracy: 0.8000\n",
            "Epoch 80/100\n",
            "36/36 [==============================] - 1s 22ms/step - loss: 0.6703 - accuracy: 0.7983 - val_loss: 0.7329 - val_accuracy: 0.7750\n",
            "Epoch 81/100\n",
            "36/36 [==============================] - 1s 22ms/step - loss: 0.5939 - accuracy: 0.8235 - val_loss: 1.1712 - val_accuracy: 0.8250\n",
            "Epoch 82/100\n",
            "36/36 [==============================] - 1s 22ms/step - loss: 0.6313 - accuracy: 0.8011 - val_loss: 0.5661 - val_accuracy: 0.8250\n",
            "Epoch 83/100\n",
            "36/36 [==============================] - 1s 22ms/step - loss: 0.6419 - accuracy: 0.8039 - val_loss: 0.6400 - val_accuracy: 0.7750\n",
            "Epoch 84/100\n",
            "36/36 [==============================] - 1s 22ms/step - loss: 0.6641 - accuracy: 0.8095 - val_loss: 0.8418 - val_accuracy: 0.8250\n",
            "Epoch 85/100\n",
            "36/36 [==============================] - 1s 23ms/step - loss: 0.6388 - accuracy: 0.8151 - val_loss: 1.1971 - val_accuracy: 0.8250\n",
            "Epoch 86/100\n",
            "36/36 [==============================] - 1s 22ms/step - loss: 0.5606 - accuracy: 0.8235 - val_loss: 0.7241 - val_accuracy: 0.8000\n",
            "Epoch 87/100\n",
            "36/36 [==============================] - 1s 22ms/step - loss: 0.6495 - accuracy: 0.7899 - val_loss: 0.8450 - val_accuracy: 0.7000\n",
            "Epoch 88/100\n",
            "36/36 [==============================] - 1s 22ms/step - loss: 0.6712 - accuracy: 0.7983 - val_loss: 1.1532 - val_accuracy: 0.7750\n",
            "Epoch 89/100\n",
            "36/36 [==============================] - 1s 23ms/step - loss: 0.6562 - accuracy: 0.7983 - val_loss: 0.6430 - val_accuracy: 0.8750\n",
            "Epoch 90/100\n",
            "36/36 [==============================] - 1s 22ms/step - loss: 0.6393 - accuracy: 0.8179 - val_loss: 0.8025 - val_accuracy: 0.8250\n",
            "Epoch 91/100\n",
            "36/36 [==============================] - 1s 22ms/step - loss: 0.5445 - accuracy: 0.8151 - val_loss: 0.5613 - val_accuracy: 0.8250\n",
            "Epoch 92/100\n",
            "36/36 [==============================] - 1s 23ms/step - loss: 0.5548 - accuracy: 0.8123 - val_loss: 0.8154 - val_accuracy: 0.6750\n",
            "Epoch 93/100\n",
            "36/36 [==============================] - 1s 22ms/step - loss: 0.5640 - accuracy: 0.8067 - val_loss: 1.1350 - val_accuracy: 0.6500\n",
            "Epoch 94/100\n",
            "36/36 [==============================] - 1s 22ms/step - loss: 0.5688 - accuracy: 0.8179 - val_loss: 0.7864 - val_accuracy: 0.8000\n",
            "Epoch 95/100\n",
            "36/36 [==============================] - 1s 22ms/step - loss: 0.5433 - accuracy: 0.8375 - val_loss: 1.0318 - val_accuracy: 0.8000\n",
            "Epoch 96/100\n",
            "36/36 [==============================] - 1s 22ms/step - loss: 0.5454 - accuracy: 0.8263 - val_loss: 0.4951 - val_accuracy: 0.8500\n",
            "Epoch 97/100\n",
            "36/36 [==============================] - 1s 22ms/step - loss: 0.5160 - accuracy: 0.8095 - val_loss: 0.5650 - val_accuracy: 0.8500\n",
            "Epoch 98/100\n",
            "36/36 [==============================] - 1s 22ms/step - loss: 0.5295 - accuracy: 0.8179 - val_loss: 0.6135 - val_accuracy: 0.7750\n",
            "Epoch 99/100\n",
            "36/36 [==============================] - 1s 22ms/step - loss: 0.5375 - accuracy: 0.8207 - val_loss: 0.8330 - val_accuracy: 0.8250\n",
            "Epoch 100/100\n",
            "36/36 [==============================] - 1s 22ms/step - loss: 0.5295 - accuracy: 0.8291 - val_loss: 0.8451 - val_accuracy: 0.8500\n",
            "Saved model to disk\n",
            "INFO:tensorflow:Assets written to: CNN.model/assets\n"
          ],
          "name": "stdout"
        }
      ]
    },
    {
      "cell_type": "markdown",
      "metadata": {
        "id": "OJfvQAKx0HvF",
        "colab_type": "text"
      },
      "source": [
        "### model2 fit"
      ]
    },
    {
      "cell_type": "code",
      "metadata": {
        "id": "6qEeqT7DDfH-",
        "colab_type": "code",
        "colab": {
          "base_uri": "https://localhost:8080/",
          "height": 1000
        },
        "outputId": "c42689b8-61c5-4776-dd80-b29fd894f4c4"
      },
      "source": [
        "# Training the model, with 40 iterations\n",
        "# validation_split corresponds to the percentage of images used for the validation phase compared to all the images\n",
        "\n",
        "history1 = model1.fit(X, Y, batch_size=10, epochs=100, validation_split=0.1)\n",
        "\n",
        "# Saving the model\n",
        "model1_json = model1.to_json()\n",
        "with open(\"model1.json\", \"w\") as json_file :\n",
        "\tjson_file.write(model1_json)\n",
        "\n",
        "model.save_weights(\"model1.h5\")\n",
        "print(\"Saved model to disk\")\n",
        "\n",
        "model.save('CNN1.model')\n",
        "\n"
      ],
      "execution_count": null,
      "outputs": [
        {
          "output_type": "stream",
          "text": [
            "Epoch 1/100\n",
            "36/36 [==============================] - 1s 18ms/step - loss: 0.2573 - accuracy: 0.9076 - val_loss: 0.6610 - val_accuracy: 0.8000\n",
            "Epoch 2/100\n",
            "36/36 [==============================] - 1s 15ms/step - loss: 0.3108 - accuracy: 0.8880 - val_loss: 0.8680 - val_accuracy: 0.8000\n",
            "Epoch 3/100\n",
            "36/36 [==============================] - 1s 15ms/step - loss: 0.2946 - accuracy: 0.9076 - val_loss: 0.8595 - val_accuracy: 0.6750\n",
            "Epoch 4/100\n",
            "36/36 [==============================] - 1s 16ms/step - loss: 0.2492 - accuracy: 0.9188 - val_loss: 0.7399 - val_accuracy: 0.8000\n",
            "Epoch 5/100\n",
            "36/36 [==============================] - 1s 14ms/step - loss: 0.3256 - accuracy: 0.8739 - val_loss: 0.8111 - val_accuracy: 0.8250\n",
            "Epoch 6/100\n",
            "36/36 [==============================] - 1s 15ms/step - loss: 0.2817 - accuracy: 0.9132 - val_loss: 0.6307 - val_accuracy: 0.7750\n",
            "Epoch 7/100\n",
            "36/36 [==============================] - 1s 15ms/step - loss: 0.2308 - accuracy: 0.9160 - val_loss: 0.6791 - val_accuracy: 0.7500\n",
            "Epoch 8/100\n",
            "36/36 [==============================] - 1s 15ms/step - loss: 0.2871 - accuracy: 0.8964 - val_loss: 0.7931 - val_accuracy: 0.8250\n",
            "Epoch 9/100\n",
            "36/36 [==============================] - 1s 15ms/step - loss: 0.2587 - accuracy: 0.9272 - val_loss: 0.6533 - val_accuracy: 0.9000\n",
            "Epoch 10/100\n",
            "36/36 [==============================] - 1s 15ms/step - loss: 0.2250 - accuracy: 0.9384 - val_loss: 0.6399 - val_accuracy: 0.8000\n",
            "Epoch 11/100\n",
            "36/36 [==============================] - 1s 15ms/step - loss: 0.1906 - accuracy: 0.9412 - val_loss: 0.6921 - val_accuracy: 0.8250\n",
            "Epoch 12/100\n",
            "36/36 [==============================] - 1s 15ms/step - loss: 0.2358 - accuracy: 0.9188 - val_loss: 0.6862 - val_accuracy: 0.8250\n",
            "Epoch 13/100\n",
            "36/36 [==============================] - 1s 15ms/step - loss: 0.1662 - accuracy: 0.9468 - val_loss: 0.6876 - val_accuracy: 0.8000\n",
            "Epoch 14/100\n",
            "36/36 [==============================] - 1s 15ms/step - loss: 0.1847 - accuracy: 0.9440 - val_loss: 0.6946 - val_accuracy: 0.8250\n",
            "Epoch 15/100\n",
            "36/36 [==============================] - 1s 15ms/step - loss: 0.1780 - accuracy: 0.9384 - val_loss: 0.6663 - val_accuracy: 0.8250\n",
            "Epoch 16/100\n",
            "36/36 [==============================] - 1s 15ms/step - loss: 0.2010 - accuracy: 0.9272 - val_loss: 1.3540 - val_accuracy: 0.6500\n",
            "Epoch 17/100\n",
            "36/36 [==============================] - 1s 15ms/step - loss: 0.1866 - accuracy: 0.9384 - val_loss: 1.2078 - val_accuracy: 0.7750\n",
            "Epoch 18/100\n",
            "36/36 [==============================] - 1s 15ms/step - loss: 0.1737 - accuracy: 0.9524 - val_loss: 2.1127 - val_accuracy: 0.7250\n",
            "Epoch 19/100\n",
            "36/36 [==============================] - 1s 15ms/step - loss: 0.2086 - accuracy: 0.9356 - val_loss: 1.3941 - val_accuracy: 0.7750\n",
            "Epoch 20/100\n",
            "36/36 [==============================] - 1s 15ms/step - loss: 0.2151 - accuracy: 0.9272 - val_loss: 2.2636 - val_accuracy: 0.7250\n",
            "Epoch 21/100\n",
            "36/36 [==============================] - 1s 15ms/step - loss: 0.2861 - accuracy: 0.9048 - val_loss: 1.8337 - val_accuracy: 0.7500\n",
            "Epoch 22/100\n",
            "36/36 [==============================] - 1s 15ms/step - loss: 0.4005 - accuracy: 0.8599 - val_loss: 0.6244 - val_accuracy: 0.8250\n",
            "Epoch 23/100\n",
            "36/36 [==============================] - 1s 15ms/step - loss: 0.2643 - accuracy: 0.9132 - val_loss: 0.8233 - val_accuracy: 0.8000\n",
            "Epoch 24/100\n",
            "36/36 [==============================] - 1s 15ms/step - loss: 0.3033 - accuracy: 0.8711 - val_loss: 1.2751 - val_accuracy: 0.7750\n",
            "Epoch 25/100\n",
            "36/36 [==============================] - 1s 15ms/step - loss: 0.2471 - accuracy: 0.9216 - val_loss: 1.4687 - val_accuracy: 0.7750\n",
            "Epoch 26/100\n",
            "36/36 [==============================] - 1s 15ms/step - loss: 0.2056 - accuracy: 0.9412 - val_loss: 1.3962 - val_accuracy: 0.8500\n",
            "Epoch 27/100\n",
            "36/36 [==============================] - 1s 15ms/step - loss: 0.2299 - accuracy: 0.9132 - val_loss: 1.3236 - val_accuracy: 0.7750\n",
            "Epoch 28/100\n",
            "36/36 [==============================] - 1s 15ms/step - loss: 0.1777 - accuracy: 0.9328 - val_loss: 1.0785 - val_accuracy: 0.8500\n",
            "Epoch 29/100\n",
            "36/36 [==============================] - 1s 15ms/step - loss: 0.2252 - accuracy: 0.9244 - val_loss: 0.8246 - val_accuracy: 0.8000\n",
            "Epoch 30/100\n",
            "36/36 [==============================] - 1s 15ms/step - loss: 0.1513 - accuracy: 0.9496 - val_loss: 1.5586 - val_accuracy: 0.8000\n",
            "Epoch 31/100\n",
            "36/36 [==============================] - 1s 15ms/step - loss: 0.1450 - accuracy: 0.9524 - val_loss: 1.7380 - val_accuracy: 0.8250\n",
            "Epoch 32/100\n",
            "36/36 [==============================] - 1s 15ms/step - loss: 0.2424 - accuracy: 0.8880 - val_loss: 1.5572 - val_accuracy: 0.8250\n",
            "Epoch 33/100\n",
            "36/36 [==============================] - 1s 15ms/step - loss: 0.2190 - accuracy: 0.9216 - val_loss: 1.2211 - val_accuracy: 0.8500\n",
            "Epoch 34/100\n",
            "36/36 [==============================] - 1s 15ms/step - loss: 0.1962 - accuracy: 0.9356 - val_loss: 0.9283 - val_accuracy: 0.8250\n",
            "Epoch 35/100\n",
            "36/36 [==============================] - 1s 15ms/step - loss: 0.1788 - accuracy: 0.9496 - val_loss: 1.1741 - val_accuracy: 0.8750\n",
            "Epoch 36/100\n",
            "36/36 [==============================] - 1s 15ms/step - loss: 0.1952 - accuracy: 0.9356 - val_loss: 0.9174 - val_accuracy: 0.8000\n",
            "Epoch 37/100\n",
            "36/36 [==============================] - 1s 15ms/step - loss: 0.1894 - accuracy: 0.9356 - val_loss: 1.3248 - val_accuracy: 0.8250\n",
            "Epoch 38/100\n",
            "36/36 [==============================] - 1s 15ms/step - loss: 0.1769 - accuracy: 0.9356 - val_loss: 1.2647 - val_accuracy: 0.8000\n",
            "Epoch 39/100\n",
            "36/36 [==============================] - 1s 14ms/step - loss: 0.1294 - accuracy: 0.9496 - val_loss: 1.6381 - val_accuracy: 0.8250\n",
            "Epoch 40/100\n",
            "36/36 [==============================] - 1s 15ms/step - loss: 0.1389 - accuracy: 0.9468 - val_loss: 1.3820 - val_accuracy: 0.8500\n",
            "Epoch 41/100\n",
            "36/36 [==============================] - 1s 15ms/step - loss: 0.1820 - accuracy: 0.9412 - val_loss: 2.4181 - val_accuracy: 0.6500\n",
            "Epoch 42/100\n",
            "36/36 [==============================] - 1s 15ms/step - loss: 0.2031 - accuracy: 0.9412 - val_loss: 1.6381 - val_accuracy: 0.7000\n",
            "Epoch 43/100\n",
            "36/36 [==============================] - 1s 15ms/step - loss: 0.1431 - accuracy: 0.9440 - val_loss: 2.1742 - val_accuracy: 0.6750\n",
            "Epoch 44/100\n",
            "36/36 [==============================] - 1s 15ms/step - loss: 0.1082 - accuracy: 0.9692 - val_loss: 2.1992 - val_accuracy: 0.7000\n",
            "Epoch 45/100\n",
            "36/36 [==============================] - 1s 15ms/step - loss: 0.0931 - accuracy: 0.9664 - val_loss: 1.4837 - val_accuracy: 0.7500\n",
            "Epoch 46/100\n",
            "36/36 [==============================] - 1s 15ms/step - loss: 0.1186 - accuracy: 0.9608 - val_loss: 1.7605 - val_accuracy: 0.7500\n",
            "Epoch 47/100\n",
            "36/36 [==============================] - 1s 15ms/step - loss: 0.0968 - accuracy: 0.9496 - val_loss: 2.9310 - val_accuracy: 0.8000\n",
            "Epoch 48/100\n",
            "36/36 [==============================] - 1s 15ms/step - loss: 0.1584 - accuracy: 0.9356 - val_loss: 2.6718 - val_accuracy: 0.7500\n",
            "Epoch 49/100\n",
            "36/36 [==============================] - 1s 15ms/step - loss: 0.1050 - accuracy: 0.9664 - val_loss: 2.2513 - val_accuracy: 0.7500\n",
            "Epoch 50/100\n",
            "36/36 [==============================] - 1s 15ms/step - loss: 0.1163 - accuracy: 0.9580 - val_loss: 2.0588 - val_accuracy: 0.7750\n",
            "Epoch 51/100\n",
            "36/36 [==============================] - 1s 15ms/step - loss: 0.1012 - accuracy: 0.9692 - val_loss: 0.7535 - val_accuracy: 0.8250\n",
            "Epoch 52/100\n",
            "36/36 [==============================] - 1s 15ms/step - loss: 0.1732 - accuracy: 0.9496 - val_loss: 2.8610 - val_accuracy: 0.8000\n",
            "Epoch 53/100\n",
            "36/36 [==============================] - 1s 15ms/step - loss: 0.1024 - accuracy: 0.9664 - val_loss: 2.0048 - val_accuracy: 0.8250\n",
            "Epoch 54/100\n",
            "36/36 [==============================] - 1s 15ms/step - loss: 0.1268 - accuracy: 0.9664 - val_loss: 2.2286 - val_accuracy: 0.8250\n",
            "Epoch 55/100\n",
            "36/36 [==============================] - 1s 15ms/step - loss: 0.1374 - accuracy: 0.9552 - val_loss: 2.1507 - val_accuracy: 0.8500\n",
            "Epoch 56/100\n",
            "36/36 [==============================] - 1s 15ms/step - loss: 0.1130 - accuracy: 0.9636 - val_loss: 2.3170 - val_accuracy: 0.8000\n",
            "Epoch 57/100\n",
            "36/36 [==============================] - 1s 15ms/step - loss: 0.1344 - accuracy: 0.9468 - val_loss: 2.1275 - val_accuracy: 0.8250\n",
            "Epoch 58/100\n",
            "36/36 [==============================] - 1s 15ms/step - loss: 0.1126 - accuracy: 0.9636 - val_loss: 1.0593 - val_accuracy: 0.7500\n",
            "Epoch 59/100\n",
            "36/36 [==============================] - 1s 15ms/step - loss: 0.2248 - accuracy: 0.9244 - val_loss: 4.0381 - val_accuracy: 0.6500\n",
            "Epoch 60/100\n",
            "36/36 [==============================] - 1s 15ms/step - loss: 0.1507 - accuracy: 0.9552 - val_loss: 1.5722 - val_accuracy: 0.7250\n",
            "Epoch 61/100\n",
            "36/36 [==============================] - 1s 15ms/step - loss: 0.1314 - accuracy: 0.9552 - val_loss: 1.4008 - val_accuracy: 0.7750\n",
            "Epoch 62/100\n",
            "36/36 [==============================] - 1s 15ms/step - loss: 0.0936 - accuracy: 0.9692 - val_loss: 1.1200 - val_accuracy: 0.8000\n",
            "Epoch 63/100\n",
            "36/36 [==============================] - 1s 15ms/step - loss: 0.0703 - accuracy: 0.9832 - val_loss: 1.4249 - val_accuracy: 0.7500\n",
            "Epoch 64/100\n",
            "36/36 [==============================] - 1s 15ms/step - loss: 0.1227 - accuracy: 0.9384 - val_loss: 1.3257 - val_accuracy: 0.7500\n",
            "Epoch 65/100\n",
            "36/36 [==============================] - 1s 15ms/step - loss: 0.0807 - accuracy: 0.9748 - val_loss: 1.0593 - val_accuracy: 0.7500\n",
            "Epoch 66/100\n",
            "36/36 [==============================] - 1s 15ms/step - loss: 0.0978 - accuracy: 0.9720 - val_loss: 0.8674 - val_accuracy: 0.8250\n",
            "Epoch 67/100\n",
            "36/36 [==============================] - 1s 15ms/step - loss: 0.0919 - accuracy: 0.9720 - val_loss: 0.8686 - val_accuracy: 0.8250\n",
            "Epoch 68/100\n",
            "36/36 [==============================] - 1s 15ms/step - loss: 0.0643 - accuracy: 0.9860 - val_loss: 1.3876 - val_accuracy: 0.8000\n",
            "Epoch 69/100\n",
            "36/36 [==============================] - 1s 15ms/step - loss: 0.0976 - accuracy: 0.9692 - val_loss: 1.2070 - val_accuracy: 0.8750\n",
            "Epoch 70/100\n",
            "36/36 [==============================] - 1s 14ms/step - loss: 0.0992 - accuracy: 0.9608 - val_loss: 1.1919 - val_accuracy: 0.8000\n",
            "Epoch 71/100\n",
            "36/36 [==============================] - 1s 15ms/step - loss: 0.1292 - accuracy: 0.9496 - val_loss: 1.0226 - val_accuracy: 0.8000\n",
            "Epoch 72/100\n",
            "36/36 [==============================] - 1s 15ms/step - loss: 0.0941 - accuracy: 0.9664 - val_loss: 1.1388 - val_accuracy: 0.7500\n",
            "Epoch 73/100\n",
            "36/36 [==============================] - 1s 15ms/step - loss: 0.1516 - accuracy: 0.9412 - val_loss: 0.9656 - val_accuracy: 0.7500\n",
            "Epoch 74/100\n",
            "36/36 [==============================] - 1s 15ms/step - loss: 0.1119 - accuracy: 0.9636 - val_loss: 1.0064 - val_accuracy: 0.8000\n",
            "Epoch 75/100\n",
            "36/36 [==============================] - 1s 15ms/step - loss: 0.1502 - accuracy: 0.9440 - val_loss: 1.1596 - val_accuracy: 0.7250\n",
            "Epoch 76/100\n",
            "36/36 [==============================] - 1s 15ms/step - loss: 0.1028 - accuracy: 0.9692 - val_loss: 1.1851 - val_accuracy: 0.7000\n",
            "Epoch 77/100\n",
            "36/36 [==============================] - 1s 15ms/step - loss: 0.1227 - accuracy: 0.9580 - val_loss: 1.1634 - val_accuracy: 0.7500\n",
            "Epoch 78/100\n",
            "36/36 [==============================] - 1s 15ms/step - loss: 0.1201 - accuracy: 0.9496 - val_loss: 1.4590 - val_accuracy: 0.7750\n",
            "Epoch 79/100\n",
            "36/36 [==============================] - 1s 15ms/step - loss: 0.1049 - accuracy: 0.9692 - val_loss: 1.6336 - val_accuracy: 0.7500\n",
            "Epoch 80/100\n",
            "36/36 [==============================] - 1s 15ms/step - loss: 0.1652 - accuracy: 0.9356 - val_loss: 1.6453 - val_accuracy: 0.7750\n",
            "Epoch 81/100\n",
            "36/36 [==============================] - 1s 15ms/step - loss: 0.1526 - accuracy: 0.9468 - val_loss: 1.9415 - val_accuracy: 0.7500\n",
            "Epoch 82/100\n",
            "36/36 [==============================] - 1s 15ms/step - loss: 0.0881 - accuracy: 0.9636 - val_loss: 2.3934 - val_accuracy: 0.8250\n",
            "Epoch 83/100\n",
            "36/36 [==============================] - 1s 15ms/step - loss: 0.0898 - accuracy: 0.9692 - val_loss: 1.5268 - val_accuracy: 0.7500\n",
            "Epoch 84/100\n",
            "36/36 [==============================] - 1s 15ms/step - loss: 0.1092 - accuracy: 0.9664 - val_loss: 1.4843 - val_accuracy: 0.8250\n",
            "Epoch 85/100\n",
            "36/36 [==============================] - 1s 15ms/step - loss: 0.1174 - accuracy: 0.9496 - val_loss: 1.5112 - val_accuracy: 0.8250\n",
            "Epoch 86/100\n",
            "36/36 [==============================] - 1s 15ms/step - loss: 0.1152 - accuracy: 0.9636 - val_loss: 1.5898 - val_accuracy: 0.7500\n",
            "Epoch 87/100\n",
            "36/36 [==============================] - 1s 15ms/step - loss: 0.1494 - accuracy: 0.9412 - val_loss: 3.4679 - val_accuracy: 0.6500\n",
            "Epoch 88/100\n",
            "36/36 [==============================] - 1s 15ms/step - loss: 0.1533 - accuracy: 0.9440 - val_loss: 1.6356 - val_accuracy: 0.7000\n",
            "Epoch 89/100\n",
            "36/36 [==============================] - 1s 15ms/step - loss: 0.1763 - accuracy: 0.9468 - val_loss: 1.3206 - val_accuracy: 0.8000\n",
            "Epoch 90/100\n",
            "36/36 [==============================] - 1s 15ms/step - loss: 0.1397 - accuracy: 0.9524 - val_loss: 0.9203 - val_accuracy: 0.8250\n",
            "Epoch 91/100\n",
            "36/36 [==============================] - 1s 15ms/step - loss: 0.0857 - accuracy: 0.9748 - val_loss: 0.9192 - val_accuracy: 0.8500\n",
            "Epoch 92/100\n",
            "36/36 [==============================] - 1s 15ms/step - loss: 0.1050 - accuracy: 0.9664 - val_loss: 1.0278 - val_accuracy: 0.7500\n",
            "Epoch 93/100\n",
            "36/36 [==============================] - 1s 15ms/step - loss: 0.1090 - accuracy: 0.9636 - val_loss: 0.9743 - val_accuracy: 0.7750\n",
            "Epoch 94/100\n",
            "36/36 [==============================] - 1s 15ms/step - loss: 0.1258 - accuracy: 0.9552 - val_loss: 0.9208 - val_accuracy: 0.8250\n",
            "Epoch 95/100\n",
            "36/36 [==============================] - 1s 15ms/step - loss: 0.1012 - accuracy: 0.9664 - val_loss: 1.9587 - val_accuracy: 0.7250\n",
            "Epoch 96/100\n",
            "36/36 [==============================] - 1s 15ms/step - loss: 0.1251 - accuracy: 0.9580 - val_loss: 1.2324 - val_accuracy: 0.7750\n",
            "Epoch 97/100\n",
            "36/36 [==============================] - 1s 15ms/step - loss: 0.1284 - accuracy: 0.9608 - val_loss: 1.3200 - val_accuracy: 0.8500\n",
            "Epoch 98/100\n",
            "36/36 [==============================] - 1s 15ms/step - loss: 0.0599 - accuracy: 0.9832 - val_loss: 1.1683 - val_accuracy: 0.8500\n",
            "Epoch 99/100\n",
            "36/36 [==============================] - 1s 15ms/step - loss: 0.0650 - accuracy: 0.9720 - val_loss: 1.5891 - val_accuracy: 0.7500\n",
            "Epoch 100/100\n",
            "36/36 [==============================] - 1s 15ms/step - loss: 0.0875 - accuracy: 0.9720 - val_loss: 0.9381 - val_accuracy: 0.7750\n",
            "Saved model to disk\n",
            "INFO:tensorflow:Assets written to: CNN1.model/assets\n"
          ],
          "name": "stdout"
        }
      ]
    },
    {
      "cell_type": "markdown",
      "metadata": {
        "id": "oTD2Xm8t0Llo",
        "colab_type": "text"
      },
      "source": [
        "###model 1 graph"
      ]
    },
    {
      "cell_type": "code",
      "metadata": {
        "id": "uaLJcXoQ1PP3",
        "colab_type": "code",
        "colab": {
          "base_uri": "https://localhost:8080/",
          "height": 329
        },
        "outputId": "b806a723-0e61-4c60-8ef0-725f6ac17e9b"
      },
      "source": [
        "# Printing a graph showing the accuracy changes during the training phase\n",
        "print(history.history.keys())\n",
        "plt.figure(1)\n",
        "plt.plot(history.history['accuracy'])\n",
        "plt.plot(history.history['val_accuracy'])\n",
        "plt.title('model accuracy')\n",
        "plt.ylabel('accuracy')\n",
        "plt.xlabel('epoch')\n",
        "plt.legend(['train', 'validation'], loc='upper left')"
      ],
      "execution_count": null,
      "outputs": [
        {
          "output_type": "stream",
          "text": [
            "dict_keys(['loss', 'accuracy', 'val_loss', 'val_accuracy'])\n"
          ],
          "name": "stdout"
        },
        {
          "output_type": "execute_result",
          "data": {
            "text/plain": [
              "<matplotlib.legend.Legend at 0x7fa0f3a61be0>"
            ]
          },
          "metadata": {
            "tags": []
          },
          "execution_count": 259
        },
        {
          "output_type": "display_data",
          "data": {
            "image/png": "[encoded data removed]",
            "text/plain": [
              "<Figure size 432x288 with 1 Axes>"
            ]
          },
          "metadata": {
            "tags": [],
            "needs_background": "light"
          }
        }
      ]
    },
    {
      "cell_type": "markdown",
      "metadata": {
        "id": "sOtT6eLq0SFl",
        "colab_type": "text"
      },
      "source": [
        "###model2 graph"
      ]
    },
    {
      "cell_type": "code",
      "metadata": {
        "id": "kKAv-xUvERms",
        "colab_type": "code",
        "colab": {
          "base_uri": "https://localhost:8080/",
          "height": 329
        },
        "outputId": "028e323b-c9d6-4043-b571-e1879328bd32"
      },
      "source": [
        "# Printing a graph showing the accuracy changes during the training phase\n",
        "print(history.history.keys())\n",
        "plt.figure(1)\n",
        "plt.plot(history.history['accuracy'])\n",
        "plt.plot(history.history['val_accuracy'])\n",
        "plt.title('model accuracy')\n",
        "plt.ylabel('accuracy')\n",
        "plt.xlabel('epoch')\n",
        "plt.legend(['train', 'validation'], loc='upper left')"
      ],
      "execution_count": null,
      "outputs": [
        {
          "output_type": "stream",
          "text": [
            "dict_keys(['loss', 'accuracy', 'val_loss', 'val_accuracy'])\n"
          ],
          "name": "stdout"
        },
        {
          "output_type": "execute_result",
          "data": {
            "text/plain": [
              "<matplotlib.legend.Legend at 0x7fa0f5cdb2b0>"
            ]
          },
          "metadata": {
            "tags": []
          },
          "execution_count": 273
        },
        {
          "output_type": "display_data",
          "data": {
            "image/png": "[encoded data removed]",
            "text/plain": [
              "<Figure size 432x288 with 1 Axes>"
            ]
          },
          "metadata": {
            "tags": [],
            "needs_background": "light"
          }
        }
      ]
    },
    {
      "cell_type": "code",
      "metadata": {
        "id": "3B10ju7F8NCc",
        "colab_type": "code",
        "colab": {
          "base_uri": "https://localhost:8080/",
          "height": 312
        },
        "outputId": "2760da6b-bb96-4c48-89c6-d967520abba0"
      },
      "source": [
        "plt.figure(1)\n",
        "plt.plot(history.history['loss'])\n",
        "plt.plot(history.history['val_loss'])\n",
        "plt.title('model loss')\n",
        "plt.ylabel('loss')\n",
        "plt.xlabel('epoch')\n",
        "plt.legend(['train', 'validation'], loc='upper left')"
      ],
      "execution_count": null,
      "outputs": [
        {
          "output_type": "execute_result",
          "data": {
            "text/plain": [
              "<matplotlib.legend.Legend at 0x7fa0f5af1518>"
            ]
          },
          "metadata": {
            "tags": []
          },
          "execution_count": 274
        },
        {
          "output_type": "display_data",
          "data": {
            "image/png": "[encoded data removed]",
            "text/plain": [
              "<Figure size 432x288 with 1 Axes>"
            ]
          },
          "metadata": {
            "tags": [],
            "needs_background": "light"
          }
        }
      ]
    },
    {
      "cell_type": "code",
      "metadata": {
        "id": "t_yLw6MDxGar",
        "colab_type": "code",
        "colab": {
          "base_uri": "https://localhost:8080/",
          "height": 34
        },
        "outputId": "b5b61547-4a34-4143-e8b0-cb9c67cd592b"
      },
      "source": [
        "model.evaluate(X_test,y_test,batch_size=20,verbose=0)"
      ],
      "execution_count": null,
      "outputs": [
        {
          "output_type": "execute_result",
          "data": {
            "text/plain": [
              "[0.2506026327610016, 0.9166666865348816]"
            ]
          },
          "metadata": {
            "tags": []
          },
          "execution_count": 275
        }
      ]
    },
    {
      "cell_type": "code",
      "metadata": {
        "id": "adkJ-BCWydas",
        "colab_type": "code",
        "colab": {
          "base_uri": "https://localhost:8080/",
          "height": 656
        },
        "outputId": "fd4cfc47-f712-4379-8a3b-2d48f4d009e0"
      },
      "source": [
        "model.predict(X_test,batch_size=20)"
      ],
      "execution_count": null,
      "outputs": [
        {
          "output_type": "execute_result",
          "data": {
            "text/plain": [
              "array([[7.26218879e-01, 1.79021023e-04, 1.68166967e-04, 3.12675885e-03,\n",
              "        1.91955850e-03, 2.64524966e-01, 1.92392862e-03, 3.50094720e-04,\n",
              "        2.54574377e-04, 1.18084881e-03, 1.28131520e-04, 2.50848152e-05],\n",
              "       [9.72814202e-01, 1.63090430e-04, 6.63830651e-05, 1.67504873e-03,\n",
              "        3.22476844e-04, 2.38680542e-02, 1.01727819e-04, 1.91820131e-04,\n",
              "        5.75538143e-04, 1.05615698e-04, 1.13106886e-04, 2.98469081e-06],\n",
              "       [9.70547259e-01, 2.58900458e-04, 8.09174235e-05, 2.87590246e-03,\n",
              "        5.81187545e-04, 2.42485050e-02, 1.44481237e-04, 1.28945729e-04,\n",
              "        8.37418309e-04, 1.71240128e-04, 1.22075449e-04, 3.10981977e-06],\n",
              "       [9.54725325e-01, 3.02022439e-04, 1.95832551e-03, 7.78442656e-04,\n",
              "        4.91875922e-04, 7.43477652e-03, 2.51212012e-04, 3.01906969e-02,\n",
              "        8.15655047e-04, 4.78099028e-05, 2.99815857e-03, 5.69996473e-06],\n",
              "       [9.88844037e-01, 7.68046652e-04, 4.14632494e-04, 1.54277321e-03,\n",
              "        5.36812819e-04, 2.39515305e-03, 4.95139393e-05, 1.05258869e-03,\n",
              "        3.93652078e-03, 2.09867831e-05, 4.36534552e-04, 2.41965790e-06],\n",
              "       [9.36213195e-01, 4.53813234e-04, 3.78924829e-04, 3.89171205e-03,\n",
              "        1.56381354e-03, 5.45967072e-02, 7.11055531e-04, 7.72358500e-04,\n",
              "        7.81338080e-04, 3.75396863e-04, 2.53112346e-04, 8.58741805e-06],\n",
              "       [8.73496413e-01, 1.77795679e-04, 1.35382928e-04, 3.15615698e-03,\n",
              "        1.21282553e-03, 1.19557925e-01, 8.70690157e-04, 2.94957426e-04,\n",
              "        3.65125597e-04, 5.80484164e-04, 1.40947668e-04, 1.14240411e-05],\n",
              "       [9.88551497e-01, 5.70783566e-04, 2.36697160e-04, 1.66077632e-03,\n",
              "        3.22665437e-04, 4.25186893e-03, 5.03766096e-05, 5.52490586e-04,\n",
              "        3.44103971e-03, 3.48623289e-05, 3.23535322e-04, 3.36906373e-06],\n",
              "       [9.76361811e-01, 4.28199855e-04, 1.24734070e-04, 3.36904544e-03,\n",
              "        6.84324070e-04, 1.70132946e-02, 1.35041380e-04, 1.68801736e-04,\n",
              "        1.39885629e-03, 1.49002241e-04, 1.63396471e-04, 3.36924290e-06],\n",
              "       [8.47907722e-01, 3.29670875e-04, 1.71431078e-04, 7.46564148e-03,\n",
              "        2.83478503e-03, 1.36835873e-01, 1.74580771e-03, 2.29950791e-04,\n",
              "        5.64412854e-04, 1.70578260e-03, 1.90146209e-04, 1.86817051e-05],\n",
              "       [9.63147461e-01, 2.07528166e-04, 1.17507872e-04, 1.85902661e-03,\n",
              "        4.56040667e-04, 3.27392742e-02, 1.87865517e-04, 4.12680907e-04,\n",
              "        5.78121573e-04, 1.36963194e-04, 1.52884430e-04, 4.61774835e-06],\n",
              "       [8.65467906e-01, 7.33091729e-03, 1.39381748e-03, 4.39912938e-02,\n",
              "        1.79527923e-02, 4.66331057e-02, 4.29864321e-03, 5.95944468e-04,\n",
              "        6.57832948e-03, 4.58377879e-03, 1.11015874e-03, 6.33883901e-05]],\n",
              "      dtype=float32)"
            ]
          },
          "metadata": {
            "tags": []
          },
          "execution_count": 262
        }
      ]
    },
    {
      "cell_type": "markdown",
      "metadata": {
        "id": "jqJziWdL0bZZ",
        "colab_type": "text"
      },
      "source": [
        "# **conclusion :**Both model worked well "
      ]
    },
    {
      "cell_type": "markdown",
      "metadata": {
        "id": "yfkFDGvp00gQ",
        "colab_type": "text"
      },
      "source": [
        "**now single neural layer trial**"
      ]
    },
    {
      "cell_type": "markdown",
      "metadata": {
        "id": "UQbgQwJ4_LvH",
        "colab_type": "text"
      },
      "source": [
        "#MLP"
      ]
    },
    {
      "cell_type": "code",
      "metadata": {
        "id": "PTJBx1p0_Qgl",
        "colab_type": "code",
        "colab": {}
      },
      "source": [
        "import numpy as np\n",
        "from tensorflow import keras\n",
        "from tensorflow.keras import layers"
      ],
      "execution_count": null,
      "outputs": []
    },
    {
      "cell_type": "code",
      "metadata": {
        "id": "MST2_iVuAHwz",
        "colab_type": "code",
        "colab": {
          "base_uri": "https://localhost:8080/",
          "height": 51
        },
        "outputId": "14ca73e4-f1ca-4fad-c97b-857173a14138"
      },
      "source": [
        "# Model / data parameters\n",
        "num_classes = 12\n",
        "input_shape = (50, 50, 1)\n",
        "\n",
        "X = pickle.load(open(\"X.pickle\", \"rb\"))\n",
        "Y = pickle.load(open(\"y.pickle\", \"rb\"))\n",
        "\n",
        "x_train = X.astype(\"float32\") / 255\n",
        "x_train = np.expand_dims(x_train, -1)\n",
        "print(\"x_train shape:\", x_train.shape)\n",
        "print(x_train.shape[0], \"train samples\")"
      ],
      "execution_count": null,
      "outputs": [
        {
          "output_type": "stream",
          "text": [
            "x_train shape: (397, 50, 50, 1)\n",
            "397 train samples\n"
          ],
          "name": "stdout"
        }
      ]
    },
    {
      "cell_type": "code",
      "metadata": {
        "id": "SVgLAqIoBJVr",
        "colab_type": "code",
        "colab": {
          "base_uri": "https://localhost:8080/",
          "height": 138
        },
        "outputId": "1dce6b77-276d-48f3-e8b1-2448b8fb0c0f"
      },
      "source": [
        "import keras\n",
        "y_train = keras.utils.to_categorical(Y, num_classes)\n",
        "print(y_train)"
      ],
      "execution_count": null,
      "outputs": [
        {
          "output_type": "stream",
          "text": [
            "[[1. 0. 0. ... 0. 0. 0.]\n",
            " [1. 0. 0. ... 0. 0. 0.]\n",
            " [1. 0. 0. ... 0. 0. 0.]\n",
            " ...\n",
            " [1. 0. 0. ... 0. 0. 0.]\n",
            " [1. 0. 0. ... 0. 0. 0.]\n",
            " [1. 0. 0. ... 0. 0. 0.]]\n"
          ],
          "name": "stdout"
        }
      ]
    },
    {
      "cell_type": "code",
      "metadata": {
        "id": "RZVavQ3aNrcL",
        "colab_type": "code",
        "colab": {}
      },
      "source": [
        "import numpy as np\n",
        "from tensorflow import keras\n",
        "from tensorflow.keras import layers"
      ],
      "execution_count": null,
      "outputs": []
    },
    {
      "cell_type": "code",
      "metadata": {
        "id": "lJMPGLUkBYi5",
        "colab_type": "code",
        "colab": {
          "base_uri": "https://localhost:8080/",
          "height": 397
        },
        "outputId": "baec8418-c025-466a-ae96-58d26b95e321"
      },
      "source": [
        "    model = keras.Sequential(\n",
        "    [\n",
        "        keras.Input(shape=input_shape),\n",
        "        layers.Conv2D(32, kernel_size=(3, 3), activation=\"relu\"),\n",
        "        layers.MaxPooling2D(pool_size=(2, 2)),\n",
        "        layers.Conv2D(64, kernel_size=(3, 3), activation=\"relu\"),\n",
        "        layers.MaxPooling2D(pool_size=(2, 2)),\n",
        "        layers.Flatten(),\n",
        "        layers.Dropout(0.5),\n",
        "        layers.Dense(num_classes, activation=\"softmax\"),\n",
        "    ]\n",
        ")\n",
        "\n",
        "model.summary()"
      ],
      "execution_count": null,
      "outputs": [
        {
          "output_type": "stream",
          "text": [
            "Model: \"sequential\"\n",
            "_________________________________________________________________\n",
            "Layer (type)                 Output Shape              Param #   \n",
            "=================================================================\n",
            "conv2d (Conv2D)              (None, 48, 48, 32)        320       \n",
            "_________________________________________________________________\n",
            "max_pooling2d (MaxPooling2D) (None, 24, 24, 32)        0         \n",
            "_________________________________________________________________\n",
            "conv2d_1 (Conv2D)            (None, 22, 22, 64)        18496     \n",
            "_________________________________________________________________\n",
            "max_pooling2d_1 (MaxPooling2 (None, 11, 11, 64)        0         \n",
            "_________________________________________________________________\n",
            "flatten (Flatten)            (None, 7744)              0         \n",
            "_________________________________________________________________\n",
            "dropout (Dropout)            (None, 7744)              0         \n",
            "_________________________________________________________________\n",
            "dense (Dense)                (None, 12)                92940     \n",
            "=================================================================\n",
            "Total params: 111,756\n",
            "Trainable params: 111,756\n",
            "Non-trainable params: 0\n",
            "_________________________________________________________________\n"
          ],
          "name": "stdout"
        }
      ]
    },
    {
      "cell_type": "code",
      "metadata": {
        "id": "U1csWGMvBm3L",
        "colab_type": "code",
        "colab": {
          "base_uri": "https://localhost:8080/",
          "height": 573
        },
        "outputId": "afd51763-ac3e-4280-87ec-bfcb81bddd32"
      },
      "source": [
        "epochs = 15\n",
        "batch_size = 128\n",
        "\n",
        "model.compile(loss=\"categorical_crossentropy\", optimizer=\"adam\", metrics=[\"accuracy\"])\n",
        "\n",
        "model.fit(x_train, y_train, batch_size=batch_size, epochs=epochs, validation_split=0.1)"
      ],
      "execution_count": null,
      "outputs": [
        {
          "output_type": "stream",
          "text": [
            "Epoch 1/15\n",
            "3/3 [==============================] - 0s 162ms/step - loss: 1.9987 - accuracy: 0.5126 - val_loss: 0.8584 - val_accuracy: 0.8500\n",
            "Epoch 2/15\n",
            "3/3 [==============================] - 0s 29ms/step - loss: 1.1239 - accuracy: 0.7871 - val_loss: 1.0271 - val_accuracy: 0.8500\n",
            "Epoch 3/15\n",
            "3/3 [==============================] - 0s 30ms/step - loss: 1.1673 - accuracy: 0.7871 - val_loss: 0.8516 - val_accuracy: 0.8500\n",
            "Epoch 4/15\n",
            "3/3 [==============================] - 0s 30ms/step - loss: 0.9782 - accuracy: 0.7871 - val_loss: 0.9416 - val_accuracy: 0.8500\n",
            "Epoch 5/15\n",
            "3/3 [==============================] - 0s 30ms/step - loss: 1.0483 - accuracy: 0.7871 - val_loss: 0.9229 - val_accuracy: 0.8500\n",
            "Epoch 6/15\n",
            "3/3 [==============================] - 0s 30ms/step - loss: 0.9968 - accuracy: 0.7871 - val_loss: 0.8254 - val_accuracy: 0.8500\n",
            "Epoch 7/15\n",
            "3/3 [==============================] - 0s 29ms/step - loss: 0.9610 - accuracy: 0.7871 - val_loss: 0.8351 - val_accuracy: 0.8500\n",
            "Epoch 8/15\n",
            "3/3 [==============================] - 0s 30ms/step - loss: 0.9826 - accuracy: 0.7871 - val_loss: 0.8148 - val_accuracy: 0.8500\n",
            "Epoch 9/15\n",
            "3/3 [==============================] - 0s 31ms/step - loss: 0.9328 - accuracy: 0.7871 - val_loss: 0.8110 - val_accuracy: 0.8500\n",
            "Epoch 10/15\n",
            "3/3 [==============================] - 0s 29ms/step - loss: 0.9316 - accuracy: 0.7871 - val_loss: 0.8308 - val_accuracy: 0.8500\n",
            "Epoch 11/15\n",
            "3/3 [==============================] - 0s 29ms/step - loss: 0.9327 - accuracy: 0.7871 - val_loss: 0.8343 - val_accuracy: 0.8500\n",
            "Epoch 12/15\n",
            "3/3 [==============================] - 0s 30ms/step - loss: 0.9071 - accuracy: 0.7871 - val_loss: 0.8531 - val_accuracy: 0.8500\n",
            "Epoch 13/15\n",
            "3/3 [==============================] - 0s 34ms/step - loss: 0.9059 - accuracy: 0.7871 - val_loss: 0.8612 - val_accuracy: 0.8500\n",
            "Epoch 14/15\n",
            "3/3 [==============================] - 0s 32ms/step - loss: 0.8839 - accuracy: 0.7871 - val_loss: 0.8614 - val_accuracy: 0.8500\n",
            "Epoch 15/15\n",
            "3/3 [==============================] - 0s 29ms/step - loss: 0.8876 - accuracy: 0.7871 - val_loss: 0.8547 - val_accuracy: 0.8500\n"
          ],
          "name": "stdout"
        },
        {
          "output_type": "execute_result",
          "data": {
            "text/plain": [
              "<tensorflow.python.keras.callbacks.History at 0x7f5adbe53160>"
            ]
          },
          "metadata": {
            "tags": []
          },
          "execution_count": 18
        }
      ]
    },
    {
      "cell_type": "markdown",
      "metadata": {
        "id": "GzrNrlJI1KoT",
        "colab_type": "text"
      },
      "source": [
        "# **Conclusion:**didn't worked in comparission to  convolutional layer model "
      ]
    },
    {
      "cell_type": "markdown",
      "metadata": {
        "id": "3c3pvmY_RvXX",
        "colab_type": "text"
      },
      "source": [
        "##save model"
      ]
    },
    {
      "cell_type": "code",
      "metadata": {
        "id": "3dVKaXi2Ru9i",
        "colab_type": "code",
        "colab": {
          "base_uri": "https://localhost:8080/",
          "height": 123
        },
        "outputId": "1bbed1f9-85be-4d8b-a9b6-86bd4443a3e8"
      },
      "source": [
        "model1_json = model.to_json()\n",
        "with open(\"model_mlp.json\", \"w\") as json_file :\n",
        "\tjson_file.write(model1_json)\n",
        "\n",
        "model.save_weights(\"model_mlp.h5\")\n",
        "print(\"Saved model to disk\")\n",
        "\n",
        "model.save('model_mlp.model')"
      ],
      "execution_count": null,
      "outputs": [
        {
          "output_type": "stream",
          "text": [
            "Saved model to disk\n",
            "WARNING:tensorflow:From /usr/local/lib/python3.6/dist-packages/tensorflow/python/ops/resource_variable_ops.py:1817: calling BaseResourceVariable.__init__ (from tensorflow.python.ops.resource_variable_ops) with constraint is deprecated and will be removed in a future version.\n",
            "Instructions for updating:\n",
            "If using Keras pass *_constraint arguments to layers.\n",
            "INFO:tensorflow:Assets written to: model_mlp.model/assets\n"
          ],
          "name": "stdout"
        }
      ]
    },
    {
      "cell_type": "code",
      "metadata": {
        "id": "oLIJIL0yRtzc",
        "colab_type": "code",
        "colab": {}
      },
      "source": [
        ""
      ],
      "execution_count": null,
      "outputs": []
    },
    {
      "cell_type": "markdown",
      "metadata": {
        "id": "-N_yaRbUxU3B",
        "colab_type": "text"
      },
      "source": [
        "#test dataset"
      ]
    },
    {
      "cell_type": "markdown",
      "metadata": {
        "id": "CMebFYzh1wmX",
        "colab_type": "text"
      },
      "source": [
        "* load the saved model\n",
        "* compile it as compiled the saved model(one can compile its own type also but efficiency gets reduced in most of cases)\n",
        "* read the image \n",
        "* convert image into same dimension and shape as used for images to train model else it won't compile and will give error"
      ]
    },
    {
      "cell_type": "code",
      "metadata": {
        "id": "K14TEypurVIH",
        "colab_type": "code",
        "colab": {
          "base_uri": "https://localhost:8080/",
          "height": 138
        },
        "outputId": "1e7f2f4e-7801-424b-a289-ab858e85d597"
      },
      "source": [
        "import tensorflow as tf \n",
        "from google.colab.patches import cv2_imshow\n",
        "import cv2\n",
        "import numpy as np\n",
        "from keras.preprocessing import image\n",
        "import keras\n",
        "\n",
        "#model.compile(optimizer = \"adam\", loss = 'binary_crossentropy',  metrics = ['binary_accuracy'])\n",
        "\n",
        "#========================CNN======================================\n",
        "'''model = tf.keras.models.load_model('model_mlp.model')\n",
        "model.compile(loss=\"sparse_categorical_crossentropy\",optimizer=\"adam\",metrics=[\"accuracy\"])\n",
        "img = image.load_img('dataset/test/cov.jpeg', target_size=(50, 50))\n",
        "#print(img)\n",
        "# for cnn\n",
        "x = image.img_to_array(img)\n",
        "x = np.expand_dims(x, axis=0)'''\n",
        "\n",
        "'''#=================================MLP=================================\n",
        "model = tf.keras.models.load_model('model_mlp.model')\n",
        "model.compile(loss=\"categorical_crossentropy\", optimizer=\"adam\", metrics=[\"accuracy\"])\n",
        "x=cv2.imread('dataset/test/pnc.jpg')\n",
        "x=cv2.resize(x,(50,50))\n",
        "x= np.array(x).reshape(-1, 50, 50)\n",
        "x=np.expand_dims(x, -1)'''\n",
        "\n",
        "#===========================TESTING==========================\n",
        "CATEGORIES=list(categories)\n",
        "images = np.vstack([x])\n",
        "classes = model.predict_classes(images)\n",
        "print (classes)\n",
        "y_proba = model.predict(images)\n",
        "#y_classes = keras.np_utils.probas_to_classes(y_proba)\n",
        "print(y_proba)\n",
        "#print(y_classes)\n",
        "for pred in classes:\n",
        "\tprint(\"You have {} disease\".format(CATEGORIES[pred]))"
      ],
      "execution_count": null,
      "outputs": [
        {
          "output_type": "stream",
          "text": [
            "[0 0 0]\n",
            "[[1. 0. 0. 0. 0. 0. 0. 0. 0. 0. 0. 0.]\n",
            " [1. 0. 0. 0. 0. 0. 0. 0. 0. 0. 0. 0.]\n",
            " [1. 0. 0. 0. 0. 0. 0. 0. 0. 0. 0. 0.]]\n",
            "You have COVID-19 disease\n",
            "You have COVID-19 disease\n",
            "You have COVID-19 disease\n"
          ],
          "name": "stdout"
        }
      ]
    },
    {
      "cell_type": "markdown",
      "metadata": {
        "id": "cyRQ5JUr2qUG",
        "colab_type": "text"
      },
      "source": [
        "# **Conclusion:**\n",
        "* **neural networks  dependent on the no of sample inputs given of each type of class** \n",
        "* **more the number of sample of class A type more the accuracy of class A**\n",
        "* **less the number of sample of class B type less the accuracy of class B**\n",
        "* **denser the nueral network more accurate the feature extraction** "
      ]
    },
    {
      "cell_type": "markdown",
      "metadata": {
        "id": "QddFbcOT4j2o",
        "colab_type": "text"
      },
      "source": [
        "## **Report  analysis by**=>\n",
        "* **Name** =  Saloni Mehra\n",
        "* **College** = Galgotias Unniversity\n",
        "* **Enrollment** = 1713101367\n",
        "* **Semester** = 6th Semester of Bachelor in Technology\n",
        "* **Mentor** =Mrs. Sofia Pillai"
      ]
    },
    {
      "cell_type": "code",
      "metadata": {
        "id": "RSNE8klJ2M7H",
        "colab_type": "code",
        "colab": {}
      },
      "source": [
        ""
      ],
      "execution_count": null,
      "outputs": []
    }
  ]
}